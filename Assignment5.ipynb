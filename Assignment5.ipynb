{
 "cells": [
  {
   "cell_type": "code",
   "execution_count": 1,
   "id": "92ac99f6-79fd-425a-bfe5-48490150e846",
   "metadata": {
    "tags": []
   },
   "outputs": [],
   "source": [
    "import numpy as np\n",
    "import pandas as pd"
   ]
  },
  {
   "cell_type": "markdown",
   "id": "a71ce2ad-ad9d-4a3d-8e8c-0ca1668f08b1",
   "metadata": {},
   "source": [
    "##### 1. Implement the Naïve Bayes classifier using user define functions."
   ]
  },
  {
   "cell_type": "code",
   "execution_count": 2,
   "id": "a8c0f471-9384-4bdd-acec-4d5a47751847",
   "metadata": {
    "tags": []
   },
   "outputs": [
    {
     "data": {
      "text/html": [
       "<div>\n",
       "<style scoped>\n",
       "    .dataframe tbody tr th:only-of-type {\n",
       "        vertical-align: middle;\n",
       "    }\n",
       "\n",
       "    .dataframe tbody tr th {\n",
       "        vertical-align: top;\n",
       "    }\n",
       "\n",
       "    .dataframe thead th {\n",
       "        text-align: right;\n",
       "    }\n",
       "</style>\n",
       "<table border=\"1\" class=\"dataframe\">\n",
       "  <thead>\n",
       "    <tr style=\"text-align: right;\">\n",
       "      <th></th>\n",
       "      <th>Color</th>\n",
       "      <th>Type</th>\n",
       "      <th>Mileage</th>\n",
       "      <th>Origin</th>\n",
       "      <th>Stolen</th>\n",
       "    </tr>\n",
       "  </thead>\n",
       "  <tbody>\n",
       "    <tr>\n",
       "      <th>0</th>\n",
       "      <td>Red</td>\n",
       "      <td>SUV</td>\n",
       "      <td>13.2</td>\n",
       "      <td>Imported</td>\n",
       "      <td>Yes</td>\n",
       "    </tr>\n",
       "    <tr>\n",
       "      <th>1</th>\n",
       "      <td>Red</td>\n",
       "      <td>XUV</td>\n",
       "      <td>12.1</td>\n",
       "      <td>Domestic</td>\n",
       "      <td>Yes</td>\n",
       "    </tr>\n",
       "    <tr>\n",
       "      <th>2</th>\n",
       "      <td>Blue</td>\n",
       "      <td>SUV</td>\n",
       "      <td>14.8</td>\n",
       "      <td>Domestic</td>\n",
       "      <td>No</td>\n",
       "    </tr>\n",
       "    <tr>\n",
       "      <th>3</th>\n",
       "      <td>Blue</td>\n",
       "      <td>NaN</td>\n",
       "      <td>14.5</td>\n",
       "      <td>Imported</td>\n",
       "      <td>No</td>\n",
       "    </tr>\n",
       "    <tr>\n",
       "      <th>4</th>\n",
       "      <td>Yellow</td>\n",
       "      <td>XUV</td>\n",
       "      <td>12.2</td>\n",
       "      <td>Domestic</td>\n",
       "      <td>Yes</td>\n",
       "    </tr>\n",
       "    <tr>\n",
       "      <th>5</th>\n",
       "      <td>Yellow</td>\n",
       "      <td>SUV</td>\n",
       "      <td>NaN</td>\n",
       "      <td>Imported</td>\n",
       "      <td>Yes</td>\n",
       "    </tr>\n",
       "    <tr>\n",
       "      <th>6</th>\n",
       "      <td>Red</td>\n",
       "      <td>SUV</td>\n",
       "      <td>11.8</td>\n",
       "      <td>Imported</td>\n",
       "      <td>No</td>\n",
       "    </tr>\n",
       "  </tbody>\n",
       "</table>\n",
       "</div>"
      ],
      "text/plain": [
       "    Color Type  Mileage    Origin Stolen\n",
       "0     Red  SUV     13.2  Imported    Yes\n",
       "1     Red  XUV     12.1  Domestic    Yes\n",
       "2    Blue  SUV     14.8  Domestic     No\n",
       "3    Blue  NaN     14.5  Imported     No\n",
       "4  Yellow  XUV     12.2  Domestic    Yes\n",
       "5  Yellow  SUV      NaN  Imported    Yes\n",
       "6     Red  SUV     11.8  Imported     No"
      ]
     },
     "execution_count": 2,
     "metadata": {},
     "output_type": "execute_result"
    }
   ],
   "source": [
    "data = {\"Color\":['Red', 'Red', 'Blue', 'Blue', 'Yellow', 'Yellow', 'Red'],\n",
    "        \"Type\":['SUV', 'XUV', 'SUV', np.nan, 'XUV', 'SUV', 'SUV'],\n",
    "        \"Mileage\":[13.2, 12.1, 14.8, 14.5, 12.2, np.nan, 11.8],\n",
    "        \"Origin\":['Imported', 'Domestic', 'Domestic', 'Imported', 'Domestic', 'Imported', 'Imported'],\n",
    "        \"Stolen\":['Yes', 'Yes', 'No', 'No', 'Yes', 'Yes', 'No']\n",
    "       }\n",
    "df = pd.DataFrame(data)\n",
    "df"
   ]
  },
  {
   "cell_type": "code",
   "execution_count": 3,
   "id": "8f9d51b0-b8cb-45a8-8918-d4e4d9b6e20b",
   "metadata": {
    "tags": []
   },
   "outputs": [
    {
     "data": {
      "text/plain": [
       "'SUV'"
      ]
     },
     "execution_count": 3,
     "metadata": {},
     "output_type": "execute_result"
    }
   ],
   "source": [
    "#replacing null values in Type with most frequent Type\n",
    "Type_mode = df['Type'].value_counts().idxmax()\n",
    "df['Type'].replace(np.nan, Type_mode, inplace=True)\n",
    "Type_mode"
   ]
  },
  {
   "cell_type": "code",
   "execution_count": 4,
   "id": "c049894c-19b8-464e-a080-f8e1541d5b79",
   "metadata": {
    "tags": []
   },
   "outputs": [
    {
     "data": {
      "text/plain": [
       "13.1"
      ]
     },
     "execution_count": 4,
     "metadata": {},
     "output_type": "execute_result"
    }
   ],
   "source": [
    "#replacing empty Mileage with mean\n",
    "Mileage_mean = df['Mileage'].mean()\n",
    "df['Mileage'].replace(np.nan, Mileage_mean, inplace=True)\n",
    "Mileage_mean"
   ]
  },
  {
   "cell_type": "code",
   "execution_count": 5,
   "id": "eefbfb56-26b4-4adb-baa3-5b584c2d6643",
   "metadata": {
    "tags": []
   },
   "outputs": [
    {
     "data": {
      "text/html": [
       "<div>\n",
       "<style scoped>\n",
       "    .dataframe tbody tr th:only-of-type {\n",
       "        vertical-align: middle;\n",
       "    }\n",
       "\n",
       "    .dataframe tbody tr th {\n",
       "        vertical-align: top;\n",
       "    }\n",
       "\n",
       "    .dataframe thead th {\n",
       "        text-align: right;\n",
       "    }\n",
       "</style>\n",
       "<table border=\"1\" class=\"dataframe\">\n",
       "  <thead>\n",
       "    <tr style=\"text-align: right;\">\n",
       "      <th></th>\n",
       "      <th>Color</th>\n",
       "      <th>Type</th>\n",
       "      <th>Mileage</th>\n",
       "      <th>Origin</th>\n",
       "      <th>Stolen</th>\n",
       "    </tr>\n",
       "  </thead>\n",
       "  <tbody>\n",
       "    <tr>\n",
       "      <th>0</th>\n",
       "      <td>Red</td>\n",
       "      <td>SUV</td>\n",
       "      <td>13.2</td>\n",
       "      <td>Imported</td>\n",
       "      <td>Yes</td>\n",
       "    </tr>\n",
       "    <tr>\n",
       "      <th>1</th>\n",
       "      <td>Red</td>\n",
       "      <td>XUV</td>\n",
       "      <td>12.1</td>\n",
       "      <td>Domestic</td>\n",
       "      <td>Yes</td>\n",
       "    </tr>\n",
       "    <tr>\n",
       "      <th>2</th>\n",
       "      <td>Blue</td>\n",
       "      <td>SUV</td>\n",
       "      <td>14.8</td>\n",
       "      <td>Domestic</td>\n",
       "      <td>No</td>\n",
       "    </tr>\n",
       "    <tr>\n",
       "      <th>3</th>\n",
       "      <td>Blue</td>\n",
       "      <td>SUV</td>\n",
       "      <td>14.5</td>\n",
       "      <td>Imported</td>\n",
       "      <td>No</td>\n",
       "    </tr>\n",
       "    <tr>\n",
       "      <th>4</th>\n",
       "      <td>Yellow</td>\n",
       "      <td>XUV</td>\n",
       "      <td>12.2</td>\n",
       "      <td>Domestic</td>\n",
       "      <td>Yes</td>\n",
       "    </tr>\n",
       "    <tr>\n",
       "      <th>5</th>\n",
       "      <td>Yellow</td>\n",
       "      <td>SUV</td>\n",
       "      <td>13.1</td>\n",
       "      <td>Imported</td>\n",
       "      <td>Yes</td>\n",
       "    </tr>\n",
       "    <tr>\n",
       "      <th>6</th>\n",
       "      <td>Red</td>\n",
       "      <td>SUV</td>\n",
       "      <td>11.8</td>\n",
       "      <td>Imported</td>\n",
       "      <td>No</td>\n",
       "    </tr>\n",
       "  </tbody>\n",
       "</table>\n",
       "</div>"
      ],
      "text/plain": [
       "    Color Type  Mileage    Origin Stolen\n",
       "0     Red  SUV     13.2  Imported    Yes\n",
       "1     Red  XUV     12.1  Domestic    Yes\n",
       "2    Blue  SUV     14.8  Domestic     No\n",
       "3    Blue  SUV     14.5  Imported     No\n",
       "4  Yellow  XUV     12.2  Domestic    Yes\n",
       "5  Yellow  SUV     13.1  Imported    Yes\n",
       "6     Red  SUV     11.8  Imported     No"
      ]
     },
     "execution_count": 5,
     "metadata": {},
     "output_type": "execute_result"
    }
   ],
   "source": [
    "df"
   ]
  },
  {
   "cell_type": "code",
   "execution_count": 6,
   "id": "73e2e624-cafc-40dd-866b-deb5bbcdbb14",
   "metadata": {
    "tags": []
   },
   "outputs": [],
   "source": [
    "\"\"\"\n",
    "Class naiveBayes is a user build function to Naive Bayes Classifier.\n",
    "User have to pass Dataframe with target column name.\n",
    "User can predict the class using predict fuction and have to pass inputs in a dict.\n",
    "\"\"\"\n",
    "class naiveBayes():\n",
    "    \n",
    "    def __init__(self, df, target):\n",
    "        self.data = df\n",
    "        self.prob_dict = {}\n",
    "        self.target = target\n",
    "        self.clss_lst = df[self.target].unique().tolist()\n",
    "        self.prob_dict['total'] = df[self.target].count()\n",
    "        for _ in self.clss_lst:\n",
    "            self.prob_dict[f\"total_{_}\"] = df[df[self.target] == _][self.target].count()\n",
    "            self.prob_dict[f\"prob_{_}\"] = round(self.prob_dict[f\"total_{_}\"] / self.prob_dict['total'], 4)\n",
    "    \n",
    "    def get_cond_prob(self, feature, values):\n",
    "        sdf = df[df[feature] == values]\n",
    "        laplacian_flag = False\n",
    "        for _ in self.clss_lst:\n",
    "            self.prob_dict[f\"total_{values}_{_}\"] = sdf[sdf[self.target] == _][self.target].count()\n",
    "            E = self.prob_dict[f\"total_{values}_{_}\"]\n",
    "            S = self.prob_dict[f\"total_{_}\"]\n",
    "            \n",
    "            # Below condition to handle laplacian.\n",
    "            if self.prob_dict[f\"total_{values}_{_}\"] == 0 or laplacian_flag == True:\n",
    "                print(\"Encounter Laplacian\")\n",
    "                P_target = round((E + 1) / (S + len(self.clss_lst)), 4)\n",
    "            else :\n",
    "                P_target = round(E / S, 4)\n",
    "            self.prob_dict[f\"prob_{values}_{_}\"] = P_target\n",
    "            print(f\"prob_{values}_{_}\", P_target)\n",
    "        laplacian_flag = False\n",
    "            \n",
    "    def get_guss_prob(self, feature, values):\n",
    "        \n",
    "        for _ in self.clss_lst:\n",
    "            guss_list = df[df[self.target] == _][feature].values\n",
    "            mean = guss_list.mean().round(4)\n",
    "            sigma = guss_list.std().round(4)\n",
    "            self.prob_dict[f\"std_{feature}_{_}\"] = sigma\n",
    "            self.prob_dict[f\"mean_{feature}_{_}\"] = mean\n",
    "            \n",
    "            a = (1 / (sigma * np.sqrt(2*np.pi)))\n",
    "            b = np.exp(-0.5*((values-mean)/sigma)**2)\n",
    "            \n",
    "            # print(mean, sigma, a, b)\n",
    "            self.prob_dict[f\"prob_{feature}_{_}\"] = (a * b).round(4)\n",
    "            print(f\"prob_{feature}_{_}\", self.prob_dict[f\"prob_{feature}_{_}\"])\n",
    "            \n",
    "    def get_bays_value(self, input_dict):\n",
    "        \n",
    "        for key, values in input_dict.items():\n",
    "            if df[key].dtype != 'O':\n",
    "                self.get_guss_prob(key, values)\n",
    "            else :\n",
    "                self.get_cond_prob(key, values)\n",
    "                    \n",
    "        for _ in self.clss_lst:\n",
    "            bays_value = self.prob_dict[f\"prob_{_}\"]\n",
    "            for key, values in input_dict.items():\n",
    "                if df[key].dtype != 'O':\n",
    "                    # print(f\"prob_{key}_{_}\", self.prob_dict[f\"prob_{key}_{_}\"])\n",
    "                    bays_value = bays_value * self.prob_dict[f\"prob_{key}_{_}\"]\n",
    "                else :\n",
    "                    # print(f\"prob_{values}_{_}\", self.prob_dict[f\"prob_{values}_{_}\"])\n",
    "                    bays_value = bays_value * self.prob_dict[f\"prob_{values}_{_}\"]\n",
    "            self.prob_dict[f\"bays_value_{_}\"] = bays_value.round(4)\n",
    "            \n",
    "    def predict(self, input_dict):\n",
    "        self.get_bays_value(input_dict)\n",
    "        maximum = 0\n",
    "        for _ in self.clss_lst:\n",
    "            print(f\"{_}\", self.prob_dict[f\"bays_value_{_}\"])\n",
    "            if self.prob_dict[f\"bays_value_{_}\"] > maximum:\n",
    "                maximum = self.prob_dict[f\"bays_value_{_}\"]\n",
    "                ans = _\n",
    "        return ans"
   ]
  },
  {
   "cell_type": "code",
   "execution_count": 7,
   "id": "87f68798-31f4-4e38-a4c5-d835a03fa59b",
   "metadata": {},
   "outputs": [],
   "source": [
    "prob_df = naiveBayes(df, 'Stolen')\n",
    "# prob_df.prob_dict"
   ]
  },
  {
   "cell_type": "code",
   "execution_count": 8,
   "id": "0bfa7651-3bf6-492e-a1b9-3c7fc1e34fc3",
   "metadata": {
    "tags": []
   },
   "outputs": [
    {
     "name": "stdout",
     "output_type": "stream",
     "text": [
      "prob_Red_Yes 0.5\n",
      "prob_Red_No 0.3333\n",
      "prob_SUV_Yes 0.5\n",
      "prob_SUV_No 1.0\n",
      "prob_Mileage_Yes 0.79\n",
      "prob_Mileage_No 0.2121\n",
      "prob_Imported_Yes 0.5\n",
      "prob_Imported_No 0.6667\n",
      "Yes 0.0564\n",
      "No 0.0202\n"
     ]
    },
    {
     "data": {
      "text/plain": [
       "'Yes'"
      ]
     },
     "execution_count": 8,
     "metadata": {},
     "output_type": "execute_result"
    }
   ],
   "source": [
    "input_dict = {'Color': 'Red', 'Type': 'SUV',  'Mileage':12.6, 'Origin':'Imported'}\n",
    "prob_df.predict(input_dict)"
   ]
  },
  {
   "cell_type": "code",
   "execution_count": 9,
   "id": "09c55b44-84be-4ef0-90c8-d942cbb1b2a1",
   "metadata": {
    "tags": []
   },
   "outputs": [
    {
     "data": {
      "text/plain": [
       "{'total': 7,\n",
       " 'total_Yes': 4,\n",
       " 'prob_Yes': 0.5714,\n",
       " 'total_No': 3,\n",
       " 'prob_No': 0.4286,\n",
       " 'total_Red_Yes': 2,\n",
       " 'prob_Red_Yes': 0.5,\n",
       " 'total_Red_No': 1,\n",
       " 'prob_Red_No': 0.3333,\n",
       " 'total_SUV_Yes': 2,\n",
       " 'prob_SUV_Yes': 0.5,\n",
       " 'total_SUV_No': 3,\n",
       " 'prob_SUV_No': 1.0,\n",
       " 'std_Mileage_Yes': 0.5025,\n",
       " 'mean_Mileage_Yes': 12.65,\n",
       " 'prob_Mileage_Yes': 0.79,\n",
       " 'std_Mileage_No': 1.3491,\n",
       " 'mean_Mileage_No': 13.7,\n",
       " 'prob_Mileage_No': 0.2121,\n",
       " 'total_Imported_Yes': 2,\n",
       " 'prob_Imported_Yes': 0.5,\n",
       " 'total_Imported_No': 2,\n",
       " 'prob_Imported_No': 0.6667,\n",
       " 'bays_value_Yes': 0.0564,\n",
       " 'bays_value_No': 0.0202}"
      ]
     },
     "execution_count": 9,
     "metadata": {},
     "output_type": "execute_result"
    }
   ],
   "source": [
    "prob_df.prob_dict"
   ]
  },
  {
   "cell_type": "code",
   "execution_count": 10,
   "id": "3768a89c-f7e3-4c6c-b4ce-5774eb4aa568",
   "metadata": {},
   "outputs": [
    {
     "name": "stdout",
     "output_type": "stream",
     "text": [
      "prob_Yellow_Yes 0.5\n",
      "Encounter Laplacian\n",
      "prob_Yellow_No 0.2\n",
      "prob_SUV_Yes 0.5\n",
      "prob_SUV_No 1.0\n",
      "prob_Mileage_Yes 0.4361\n",
      "prob_Mileage_No 0.2761\n",
      "prob_Domestic_Yes 0.5\n",
      "prob_Domestic_No 0.3333\n",
      "Yes 0.0311\n",
      "No 0.0079\n"
     ]
    },
    {
     "data": {
      "text/plain": [
       "'Yes'"
      ]
     },
     "execution_count": 10,
     "metadata": {},
     "output_type": "execute_result"
    }
   ],
   "source": [
    "input_dict = {'Color': 'Yellow', 'Type': 'SUV',  'Mileage':13.2, 'Origin':'Domestic'}\n",
    "prob_df.predict(input_dict)"
   ]
  },
  {
   "cell_type": "code",
   "execution_count": 11,
   "id": "f6417f79-3ab9-4112-ae51-99f0547ce1da",
   "metadata": {},
   "outputs": [
    {
     "data": {
      "text/plain": [
       "{'total': 7,\n",
       " 'total_Yes': 4,\n",
       " 'prob_Yes': 0.5714,\n",
       " 'total_No': 3,\n",
       " 'prob_No': 0.4286,\n",
       " 'total_Red_Yes': 2,\n",
       " 'prob_Red_Yes': 0.5,\n",
       " 'total_Red_No': 1,\n",
       " 'prob_Red_No': 0.3333,\n",
       " 'total_SUV_Yes': 2,\n",
       " 'prob_SUV_Yes': 0.5,\n",
       " 'total_SUV_No': 3,\n",
       " 'prob_SUV_No': 1.0,\n",
       " 'std_Mileage_Yes': 0.5025,\n",
       " 'mean_Mileage_Yes': 12.65,\n",
       " 'prob_Mileage_Yes': 0.4361,\n",
       " 'std_Mileage_No': 1.3491,\n",
       " 'mean_Mileage_No': 13.7,\n",
       " 'prob_Mileage_No': 0.2761,\n",
       " 'total_Imported_Yes': 2,\n",
       " 'prob_Imported_Yes': 0.5,\n",
       " 'total_Imported_No': 2,\n",
       " 'prob_Imported_No': 0.6667,\n",
       " 'bays_value_Yes': 0.0311,\n",
       " 'bays_value_No': 0.0079,\n",
       " 'total_Yellow_Yes': 2,\n",
       " 'prob_Yellow_Yes': 0.5,\n",
       " 'total_Yellow_No': 0,\n",
       " 'prob_Yellow_No': 0.2,\n",
       " 'total_Domestic_Yes': 2,\n",
       " 'prob_Domestic_Yes': 0.5,\n",
       " 'total_Domestic_No': 1,\n",
       " 'prob_Domestic_No': 0.3333}"
      ]
     },
     "execution_count": 11,
     "metadata": {},
     "output_type": "execute_result"
    }
   ],
   "source": [
    "prob_df.prob_dict"
   ]
  },
  {
   "cell_type": "code",
   "execution_count": null,
   "id": "b1d98293-8f49-425a-bcb3-0b1123ba9bb1",
   "metadata": {},
   "outputs": [],
   "source": []
  },
  {
   "cell_type": "markdown",
   "id": "63e01b9d-d374-4b68-a299-59765e83f761",
   "metadata": {},
   "source": [
    "##### 2. Implement the Naïve Bayes classifier using inbuilt functions."
   ]
  },
  {
   "cell_type": "code",
   "execution_count": 12,
   "id": "7d7d21c0-ca1b-4e0e-80a0-a84c26b6cf82",
   "metadata": {},
   "outputs": [],
   "source": [
    "# load the iris dataset\n",
    "df = pd.read_csv(\"iris_data.csv\")"
   ]
  },
  {
   "cell_type": "code",
   "execution_count": 13,
   "id": "201d28c6-b36d-4829-9775-bbfd6f9b6d82",
   "metadata": {
    "tags": []
   },
   "outputs": [
    {
     "data": {
      "text/html": [
       "<div>\n",
       "<style scoped>\n",
       "    .dataframe tbody tr th:only-of-type {\n",
       "        vertical-align: middle;\n",
       "    }\n",
       "\n",
       "    .dataframe tbody tr th {\n",
       "        vertical-align: top;\n",
       "    }\n",
       "\n",
       "    .dataframe thead th {\n",
       "        text-align: right;\n",
       "    }\n",
       "</style>\n",
       "<table border=\"1\" class=\"dataframe\">\n",
       "  <thead>\n",
       "    <tr style=\"text-align: right;\">\n",
       "      <th></th>\n",
       "      <th>sepal length (cm)</th>\n",
       "      <th>sepal width (cm)</th>\n",
       "      <th>petal length (cm)</th>\n",
       "      <th>petal width (cm)</th>\n",
       "      <th>class</th>\n",
       "    </tr>\n",
       "  </thead>\n",
       "  <tbody>\n",
       "    <tr>\n",
       "      <th>0</th>\n",
       "      <td>5.1</td>\n",
       "      <td>3.5</td>\n",
       "      <td>1.4</td>\n",
       "      <td>0.2</td>\n",
       "      <td>setosa</td>\n",
       "    </tr>\n",
       "    <tr>\n",
       "      <th>1</th>\n",
       "      <td>4.9</td>\n",
       "      <td>3.0</td>\n",
       "      <td>1.4</td>\n",
       "      <td>0.2</td>\n",
       "      <td>setosa</td>\n",
       "    </tr>\n",
       "    <tr>\n",
       "      <th>2</th>\n",
       "      <td>4.7</td>\n",
       "      <td>3.2</td>\n",
       "      <td>1.3</td>\n",
       "      <td>0.2</td>\n",
       "      <td>setosa</td>\n",
       "    </tr>\n",
       "    <tr>\n",
       "      <th>3</th>\n",
       "      <td>4.6</td>\n",
       "      <td>3.1</td>\n",
       "      <td>1.5</td>\n",
       "      <td>0.2</td>\n",
       "      <td>setosa</td>\n",
       "    </tr>\n",
       "    <tr>\n",
       "      <th>4</th>\n",
       "      <td>5.0</td>\n",
       "      <td>3.6</td>\n",
       "      <td>1.4</td>\n",
       "      <td>0.2</td>\n",
       "      <td>setosa</td>\n",
       "    </tr>\n",
       "  </tbody>\n",
       "</table>\n",
       "</div>"
      ],
      "text/plain": [
       "   sepal length (cm)  sepal width (cm)  petal length (cm)  petal width (cm)  \\\n",
       "0                5.1               3.5                1.4               0.2   \n",
       "1                4.9               3.0                1.4               0.2   \n",
       "2                4.7               3.2                1.3               0.2   \n",
       "3                4.6               3.1                1.5               0.2   \n",
       "4                5.0               3.6                1.4               0.2   \n",
       "\n",
       "    class  \n",
       "0  setosa  \n",
       "1  setosa  \n",
       "2  setosa  \n",
       "3  setosa  \n",
       "4  setosa  "
      ]
     },
     "execution_count": 13,
     "metadata": {},
     "output_type": "execute_result"
    }
   ],
   "source": [
    "df.head()"
   ]
  },
  {
   "cell_type": "code",
   "execution_count": 14,
   "id": "38c10292-8199-4eb4-9a88-2b60805850bf",
   "metadata": {
    "tags": []
   },
   "outputs": [
    {
     "data": {
      "text/plain": [
       "(['sepal length (cm)',\n",
       "  'sepal width (cm)',\n",
       "  'petal length (cm)',\n",
       "  'petal width (cm)'],\n",
       " 'class')"
      ]
     },
     "execution_count": 14,
     "metadata": {},
     "output_type": "execute_result"
    }
   ],
   "source": [
    "features = df.columns.tolist()\n",
    "target = \"class\"\n",
    "features.remove(target)\n",
    "features, target"
   ]
  },
  {
   "cell_type": "code",
   "execution_count": 15,
   "id": "4db415ba-da6f-4c6c-8be8-06f775545a69",
   "metadata": {},
   "outputs": [],
   "source": [
    "# store the feature matrix (X) and response vector (y)\n",
    "X = np.array(df[features])\n",
    "y = np.array(df[target])"
   ]
  },
  {
   "cell_type": "code",
   "execution_count": 16,
   "id": "3023c0dd-15f8-486c-979e-a76e77878fb0",
   "metadata": {},
   "outputs": [],
   "source": [
    "# splitting X and y into training and testing sets\n",
    "from sklearn.model_selection import train_test_split\n",
    "X_train, X_test, y_train, y_test = train_test_split(X, y, test_size=0.25, random_state=1)"
   ]
  },
  {
   "cell_type": "code",
   "execution_count": 17,
   "id": "52741689-7dc3-4661-ade2-b5aa222bed66",
   "metadata": {},
   "outputs": [
    {
     "data": {
      "text/html": [
       "<style>#sk-container-id-1 {color: black;}#sk-container-id-1 pre{padding: 0;}#sk-container-id-1 div.sk-toggleable {background-color: white;}#sk-container-id-1 label.sk-toggleable__label {cursor: pointer;display: block;width: 100%;margin-bottom: 0;padding: 0.3em;box-sizing: border-box;text-align: center;}#sk-container-id-1 label.sk-toggleable__label-arrow:before {content: \"▸\";float: left;margin-right: 0.25em;color: #696969;}#sk-container-id-1 label.sk-toggleable__label-arrow:hover:before {color: black;}#sk-container-id-1 div.sk-estimator:hover label.sk-toggleable__label-arrow:before {color: black;}#sk-container-id-1 div.sk-toggleable__content {max-height: 0;max-width: 0;overflow: hidden;text-align: left;background-color: #f0f8ff;}#sk-container-id-1 div.sk-toggleable__content pre {margin: 0.2em;color: black;border-radius: 0.25em;background-color: #f0f8ff;}#sk-container-id-1 input.sk-toggleable__control:checked~div.sk-toggleable__content {max-height: 200px;max-width: 100%;overflow: auto;}#sk-container-id-1 input.sk-toggleable__control:checked~label.sk-toggleable__label-arrow:before {content: \"▾\";}#sk-container-id-1 div.sk-estimator input.sk-toggleable__control:checked~label.sk-toggleable__label {background-color: #d4ebff;}#sk-container-id-1 div.sk-label input.sk-toggleable__control:checked~label.sk-toggleable__label {background-color: #d4ebff;}#sk-container-id-1 input.sk-hidden--visually {border: 0;clip: rect(1px 1px 1px 1px);clip: rect(1px, 1px, 1px, 1px);height: 1px;margin: -1px;overflow: hidden;padding: 0;position: absolute;width: 1px;}#sk-container-id-1 div.sk-estimator {font-family: monospace;background-color: #f0f8ff;border: 1px dotted black;border-radius: 0.25em;box-sizing: border-box;margin-bottom: 0.5em;}#sk-container-id-1 div.sk-estimator:hover {background-color: #d4ebff;}#sk-container-id-1 div.sk-parallel-item::after {content: \"\";width: 100%;border-bottom: 1px solid gray;flex-grow: 1;}#sk-container-id-1 div.sk-label:hover label.sk-toggleable__label {background-color: #d4ebff;}#sk-container-id-1 div.sk-serial::before {content: \"\";position: absolute;border-left: 1px solid gray;box-sizing: border-box;top: 0;bottom: 0;left: 50%;z-index: 0;}#sk-container-id-1 div.sk-serial {display: flex;flex-direction: column;align-items: center;background-color: white;padding-right: 0.2em;padding-left: 0.2em;position: relative;}#sk-container-id-1 div.sk-item {position: relative;z-index: 1;}#sk-container-id-1 div.sk-parallel {display: flex;align-items: stretch;justify-content: center;background-color: white;position: relative;}#sk-container-id-1 div.sk-item::before, #sk-container-id-1 div.sk-parallel-item::before {content: \"\";position: absolute;border-left: 1px solid gray;box-sizing: border-box;top: 0;bottom: 0;left: 50%;z-index: -1;}#sk-container-id-1 div.sk-parallel-item {display: flex;flex-direction: column;z-index: 1;position: relative;background-color: white;}#sk-container-id-1 div.sk-parallel-item:first-child::after {align-self: flex-end;width: 50%;}#sk-container-id-1 div.sk-parallel-item:last-child::after {align-self: flex-start;width: 50%;}#sk-container-id-1 div.sk-parallel-item:only-child::after {width: 0;}#sk-container-id-1 div.sk-dashed-wrapped {border: 1px dashed gray;margin: 0 0.4em 0.5em 0.4em;box-sizing: border-box;padding-bottom: 0.4em;background-color: white;}#sk-container-id-1 div.sk-label label {font-family: monospace;font-weight: bold;display: inline-block;line-height: 1.2em;}#sk-container-id-1 div.sk-label-container {text-align: center;}#sk-container-id-1 div.sk-container {/* jupyter's `normalize.less` sets `[hidden] { display: none; }` but bootstrap.min.css set `[hidden] { display: none !important; }` so we also need the `!important` here to be able to override the default hidden behavior on the sphinx rendered scikit-learn.org. See: https://github.com/scikit-learn/scikit-learn/issues/21755 */display: inline-block !important;position: relative;}#sk-container-id-1 div.sk-text-repr-fallback {display: none;}</style><div id=\"sk-container-id-1\" class=\"sk-top-container\"><div class=\"sk-text-repr-fallback\"><pre>GaussianNB()</pre><b>In a Jupyter environment, please rerun this cell to show the HTML representation or trust the notebook. <br />On GitHub, the HTML representation is unable to render, please try loading this page with nbviewer.org.</b></div><div class=\"sk-container\" hidden><div class=\"sk-item\"><div class=\"sk-estimator sk-toggleable\"><input class=\"sk-toggleable__control sk-hidden--visually\" id=\"sk-estimator-id-1\" type=\"checkbox\" checked><label for=\"sk-estimator-id-1\" class=\"sk-toggleable__label sk-toggleable__label-arrow\">GaussianNB</label><div class=\"sk-toggleable__content\"><pre>GaussianNB()</pre></div></div></div></div></div>"
      ],
      "text/plain": [
       "GaussianNB()"
      ]
     },
     "execution_count": 17,
     "metadata": {},
     "output_type": "execute_result"
    }
   ],
   "source": [
    "# training the model on training set\n",
    "from sklearn.naive_bayes import GaussianNB\n",
    "gnb = GaussianNB()\n",
    "gnb.fit(X_train, y_train)"
   ]
  },
  {
   "cell_type": "code",
   "execution_count": 18,
   "id": "0ab2fe5a-4def-41e5-9bea-a803ec09e983",
   "metadata": {},
   "outputs": [],
   "source": [
    "# making predictions on the testing set\n",
    "y_pred = gnb.predict(X_test)"
   ]
  },
  {
   "cell_type": "code",
   "execution_count": 19,
   "id": "938d46f6-d93a-44f0-8993-f514020782a3",
   "metadata": {
    "tags": []
   },
   "outputs": [
    {
     "name": "stdout",
     "output_type": "stream",
     "text": [
      "Gaussian Naive Bayes model accuracy(in %): 97.36842105263158\n"
     ]
    }
   ],
   "source": [
    "# comparing actual response values (y_test) with predicted response values (y_pred)\n",
    "from sklearn import metrics\n",
    "print(\"Gaussian Naive Bayes model accuracy(in %):\", metrics.accuracy_score(y_test, y_pred)*100)"
   ]
  },
  {
   "cell_type": "code",
   "execution_count": 20,
   "id": "bf461229-465c-464e-829e-d8ffdbd1886c",
   "metadata": {
    "tags": []
   },
   "outputs": [
    {
     "data": {
      "text/plain": [
       "array(['setosa'], dtype='<U10')"
      ]
     },
     "execution_count": 20,
     "metadata": {},
     "output_type": "execute_result"
    }
   ],
   "source": [
    "# To predict the Final Result.\n",
    "gnb.predict([[5.1, 3.5, 1.4, 0.2]])"
   ]
  },
  {
   "cell_type": "code",
   "execution_count": null,
   "id": "48119de1-fb16-46aa-890f-a346ed945f96",
   "metadata": {},
   "outputs": [],
   "source": []
  }
 ],
 "metadata": {
  "kernelspec": {
   "display_name": "Python 3 (ipykernel)",
   "language": "python",
   "name": "python3"
  },
  "language_info": {
   "codemirror_mode": {
    "name": "ipython",
    "version": 3
   },
   "file_extension": ".py",
   "mimetype": "text/x-python",
   "name": "python",
   "nbconvert_exporter": "python",
   "pygments_lexer": "ipython3",
   "version": "3.10.10"
  }
 },
 "nbformat": 4,
 "nbformat_minor": 5
}
