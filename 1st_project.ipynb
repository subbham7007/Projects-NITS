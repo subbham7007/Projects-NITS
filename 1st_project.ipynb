{
 "cells": [
  {
   "cell_type": "code",
   "execution_count": 1,
   "id": "9822fdaa",
   "metadata": {},
   "outputs": [],
   "source": [
    "import numpy as np\n",
    "import pandas as pd\n",
    "from sklearn.model_selection import train_test_split\n",
    "from sklearn.linear_model import LogisticRegression\n",
    "from sklearn.metrics import accuracy_score"
   ]
  },
  {
   "cell_type": "code",
   "execution_count": 2,
   "id": "fc1b4a8f",
   "metadata": {},
   "outputs": [],
   "source": [
    "# Assuming you have a dataset in CSV format named 'dataset.csv'\n",
    "data = pd.read_csv('C:/Users/CSC/Desktop/Anil_sir/UNR-IDD_Changed_Labels.csv')"
   ]
  },
  {
   "cell_type": "code",
   "execution_count": 10,
   "id": "0da56d60",
   "metadata": {},
   "outputs": [
    {
     "data": {
      "text/plain": [
       "(37411, 34)"
      ]
     },
     "execution_count": 10,
     "metadata": {},
     "output_type": "execute_result"
    }
   ],
   "source": [
    "data.shape"
   ]
  },
  {
   "cell_type": "code",
   "execution_count": 3,
   "id": "491a8dea",
   "metadata": {},
   "outputs": [
    {
     "data": {
      "text/html": [
       "<div>\n",
       "<style scoped>\n",
       "    .dataframe tbody tr th:only-of-type {\n",
       "        vertical-align: middle;\n",
       "    }\n",
       "\n",
       "    .dataframe tbody tr th {\n",
       "        vertical-align: top;\n",
       "    }\n",
       "\n",
       "    .dataframe thead th {\n",
       "        text-align: right;\n",
       "    }\n",
       "</style>\n",
       "<table border=\"1\" class=\"dataframe\">\n",
       "  <thead>\n",
       "    <tr style=\"text-align: right;\">\n",
       "      <th></th>\n",
       "      <th>Switch ID</th>\n",
       "      <th>Port Number</th>\n",
       "      <th>Received Packets</th>\n",
       "      <th>Received Bytes</th>\n",
       "      <th>Sent Bytes</th>\n",
       "      <th>Sent Packets</th>\n",
       "      <th>Port alive Duration (S)</th>\n",
       "      <th>Packets Rx Dropped</th>\n",
       "      <th>Packets Tx Dropped</th>\n",
       "      <th>Packets Rx Errors</th>\n",
       "      <th>...</th>\n",
       "      <th>Unknown Load/Latest</th>\n",
       "      <th>Latest bytes counter</th>\n",
       "      <th>is_valid</th>\n",
       "      <th>Table ID</th>\n",
       "      <th>Active Flow Entries</th>\n",
       "      <th>Packets Looked Up</th>\n",
       "      <th>Packets Matched</th>\n",
       "      <th>Max Size</th>\n",
       "      <th>Label</th>\n",
       "      <th>Binary Label</th>\n",
       "    </tr>\n",
       "  </thead>\n",
       "  <tbody>\n",
       "    <tr>\n",
       "      <th>0</th>\n",
       "      <td>of:000000000000000c</td>\n",
       "      <td>Port#:1</td>\n",
       "      <td>132</td>\n",
       "      <td>9181</td>\n",
       "      <td>6311853</td>\n",
       "      <td>238</td>\n",
       "      <td>46</td>\n",
       "      <td>0</td>\n",
       "      <td>0</td>\n",
       "      <td>0</td>\n",
       "      <td>...</td>\n",
       "      <td>0</td>\n",
       "      <td>0</td>\n",
       "      <td>True</td>\n",
       "      <td>0</td>\n",
       "      <td>9</td>\n",
       "      <td>767</td>\n",
       "      <td>688</td>\n",
       "      <td>-1</td>\n",
       "      <td>5</td>\n",
       "      <td>1</td>\n",
       "    </tr>\n",
       "    <tr>\n",
       "      <th>1</th>\n",
       "      <td>of:000000000000000c</td>\n",
       "      <td>Port#:2</td>\n",
       "      <td>187</td>\n",
       "      <td>6304498</td>\n",
       "      <td>15713</td>\n",
       "      <td>171</td>\n",
       "      <td>46</td>\n",
       "      <td>0</td>\n",
       "      <td>0</td>\n",
       "      <td>0</td>\n",
       "      <td>...</td>\n",
       "      <td>0</td>\n",
       "      <td>0</td>\n",
       "      <td>True</td>\n",
       "      <td>0</td>\n",
       "      <td>9</td>\n",
       "      <td>767</td>\n",
       "      <td>688</td>\n",
       "      <td>-1</td>\n",
       "      <td>5</td>\n",
       "      <td>1</td>\n",
       "    </tr>\n",
       "    <tr>\n",
       "      <th>2</th>\n",
       "      <td>of:000000000000000c</td>\n",
       "      <td>Port#:3</td>\n",
       "      <td>235</td>\n",
       "      <td>6311567</td>\n",
       "      <td>8030</td>\n",
       "      <td>58</td>\n",
       "      <td>46</td>\n",
       "      <td>0</td>\n",
       "      <td>0</td>\n",
       "      <td>0</td>\n",
       "      <td>...</td>\n",
       "      <td>0</td>\n",
       "      <td>0</td>\n",
       "      <td>True</td>\n",
       "      <td>0</td>\n",
       "      <td>9</td>\n",
       "      <td>767</td>\n",
       "      <td>688</td>\n",
       "      <td>-1</td>\n",
       "      <td>5</td>\n",
       "      <td>1</td>\n",
       "    </tr>\n",
       "    <tr>\n",
       "      <th>3</th>\n",
       "      <td>of:000000000000000c</td>\n",
       "      <td>Port#:4</td>\n",
       "      <td>59</td>\n",
       "      <td>7878</td>\n",
       "      <td>16439</td>\n",
       "      <td>182</td>\n",
       "      <td>46</td>\n",
       "      <td>0</td>\n",
       "      <td>0</td>\n",
       "      <td>0</td>\n",
       "      <td>...</td>\n",
       "      <td>0</td>\n",
       "      <td>0</td>\n",
       "      <td>True</td>\n",
       "      <td>0</td>\n",
       "      <td>9</td>\n",
       "      <td>767</td>\n",
       "      <td>688</td>\n",
       "      <td>-1</td>\n",
       "      <td>5</td>\n",
       "      <td>1</td>\n",
       "    </tr>\n",
       "    <tr>\n",
       "      <th>4</th>\n",
       "      <td>of:000000000000000a</td>\n",
       "      <td>Port#:1</td>\n",
       "      <td>188</td>\n",
       "      <td>6304547</td>\n",
       "      <td>16497</td>\n",
       "      <td>183</td>\n",
       "      <td>46</td>\n",
       "      <td>0</td>\n",
       "      <td>0</td>\n",
       "      <td>0</td>\n",
       "      <td>...</td>\n",
       "      <td>0</td>\n",
       "      <td>0</td>\n",
       "      <td>True</td>\n",
       "      <td>0</td>\n",
       "      <td>7</td>\n",
       "      <td>489</td>\n",
       "      <td>403</td>\n",
       "      <td>-1</td>\n",
       "      <td>5</td>\n",
       "      <td>1</td>\n",
       "    </tr>\n",
       "  </tbody>\n",
       "</table>\n",
       "<p>5 rows × 34 columns</p>\n",
       "</div>"
      ],
      "text/plain": [
       "             Switch ID Port Number  Received Packets  Received Bytes  \\\n",
       "0  of:000000000000000c     Port#:1               132            9181   \n",
       "1  of:000000000000000c     Port#:2               187         6304498   \n",
       "2  of:000000000000000c     Port#:3               235         6311567   \n",
       "3  of:000000000000000c     Port#:4                59            7878   \n",
       "4  of:000000000000000a     Port#:1               188         6304547   \n",
       "\n",
       "   Sent Bytes  Sent Packets  Port alive Duration (S)  Packets Rx Dropped  \\\n",
       "0     6311853           238                       46                   0   \n",
       "1       15713           171                       46                   0   \n",
       "2        8030            58                       46                   0   \n",
       "3       16439           182                       46                   0   \n",
       "4       16497           183                       46                   0   \n",
       "\n",
       "   Packets Tx Dropped  Packets Rx Errors  ...  Unknown Load/Latest  \\\n",
       "0                   0                  0  ...                    0   \n",
       "1                   0                  0  ...                    0   \n",
       "2                   0                  0  ...                    0   \n",
       "3                   0                  0  ...                    0   \n",
       "4                   0                  0  ...                    0   \n",
       "\n",
       "   Latest bytes counter  is_valid  Table ID  Active Flow Entries  \\\n",
       "0                     0      True         0                    9   \n",
       "1                     0      True         0                    9   \n",
       "2                     0      True         0                    9   \n",
       "3                     0      True         0                    9   \n",
       "4                     0      True         0                    7   \n",
       "\n",
       "   Packets Looked Up  Packets Matched  Max Size  Label  Binary Label  \n",
       "0                767              688        -1      5             1  \n",
       "1                767              688        -1      5             1  \n",
       "2                767              688        -1      5             1  \n",
       "3                767              688        -1      5             1  \n",
       "4                489              403        -1      5             1  \n",
       "\n",
       "[5 rows x 34 columns]"
      ]
     },
     "execution_count": 3,
     "metadata": {},
     "output_type": "execute_result"
    }
   ],
   "source": [
    "data.head()"
   ]
  },
  {
   "cell_type": "code",
   "execution_count": 4,
   "id": "3c05cbeb",
   "metadata": {},
   "outputs": [
    {
     "name": "stdout",
     "output_type": "stream",
     "text": [
      "Switch ID                        0\n",
      "Port Number                      0\n",
      "Received Packets                 0\n",
      "Received Bytes                   0\n",
      "Sent Bytes                       0\n",
      "Sent Packets                     0\n",
      "Port alive Duration (S)          0\n",
      "Packets Rx Dropped               0\n",
      "Packets Tx Dropped               0\n",
      "Packets Rx Errors                0\n",
      "Packets Tx Errors                0\n",
      "Delta Received Packets           0\n",
      "Delta Received Bytes             0\n",
      "Delta Sent Bytes                 0\n",
      "Delta Sent Packets               0\n",
      "Delta Port alive Duration (S)    0\n",
      "Delta Packets Rx Dropped         0\n",
      " Delta Packets Tx Dropped        0\n",
      "Delta Packets Rx Errors          0\n",
      "Delta Packets Tx Errors          0\n",
      "Connection Point                 0\n",
      "Total Load/Rate                  0\n",
      "Total Load/Latest                0\n",
      "Unknown Load/Rate                0\n",
      "Unknown Load/Latest              0\n",
      "Latest bytes counter             0\n",
      "is_valid                         0\n",
      "Table ID                         0\n",
      "Active Flow Entries              0\n",
      "Packets Looked Up                0\n",
      "Packets Matched                  0\n",
      "Max Size                         0\n",
      "Label                            0\n",
      "Binary Label                     0\n",
      "dtype: int64\n"
     ]
    }
   ],
   "source": [
    "missing_values = data.isna().sum()\n",
    "print(missing_values)"
   ]
  },
  {
   "cell_type": "code",
   "execution_count": 5,
   "id": "184a7f1c",
   "metadata": {},
   "outputs": [],
   "source": [
    "from sklearn import preprocessing\n",
    "le = preprocessing.LabelEncoder()\n",
    "le.fit(data['Label'])\n",
    "data['Label'] = le.transform(data['Label'])\n",
    "\n",
    "le.fit(data['Switch ID'])\n",
    "data['Switch ID'] = le.transform(data['Switch ID'])\n",
    "\n",
    "le.fit(data['Port Number'])\n",
    "data['Port Number'] = le.transform(data['Port Number'])\n",
    "\n",
    "le.fit(data['is_valid'])\n",
    "data['is_valid'] = le.transform(data['is_valid'])\n",
    "\n"
   ]
  },
  {
   "cell_type": "code",
   "execution_count": 6,
   "id": "18b95e08",
   "metadata": {},
   "outputs": [
    {
     "data": {
      "text/html": [
       "<div>\n",
       "<style scoped>\n",
       "    .dataframe tbody tr th:only-of-type {\n",
       "        vertical-align: middle;\n",
       "    }\n",
       "\n",
       "    .dataframe tbody tr th {\n",
       "        vertical-align: top;\n",
       "    }\n",
       "\n",
       "    .dataframe thead th {\n",
       "        text-align: right;\n",
       "    }\n",
       "</style>\n",
       "<table border=\"1\" class=\"dataframe\">\n",
       "  <thead>\n",
       "    <tr style=\"text-align: right;\">\n",
       "      <th></th>\n",
       "      <th>Switch ID</th>\n",
       "      <th>Port Number</th>\n",
       "      <th>Received Packets</th>\n",
       "      <th>Received Bytes</th>\n",
       "      <th>Sent Bytes</th>\n",
       "      <th>Sent Packets</th>\n",
       "      <th>Port alive Duration (S)</th>\n",
       "      <th>Packets Rx Dropped</th>\n",
       "      <th>Packets Tx Dropped</th>\n",
       "      <th>Packets Rx Errors</th>\n",
       "      <th>...</th>\n",
       "      <th>Unknown Load/Latest</th>\n",
       "      <th>Latest bytes counter</th>\n",
       "      <th>is_valid</th>\n",
       "      <th>Table ID</th>\n",
       "      <th>Active Flow Entries</th>\n",
       "      <th>Packets Looked Up</th>\n",
       "      <th>Packets Matched</th>\n",
       "      <th>Max Size</th>\n",
       "      <th>Label</th>\n",
       "      <th>Binary Label</th>\n",
       "    </tr>\n",
       "  </thead>\n",
       "  <tbody>\n",
       "    <tr>\n",
       "      <th>0</th>\n",
       "      <td>11</td>\n",
       "      <td>0</td>\n",
       "      <td>132</td>\n",
       "      <td>9181</td>\n",
       "      <td>6311853</td>\n",
       "      <td>238</td>\n",
       "      <td>46</td>\n",
       "      <td>0</td>\n",
       "      <td>0</td>\n",
       "      <td>0</td>\n",
       "      <td>...</td>\n",
       "      <td>0</td>\n",
       "      <td>0</td>\n",
       "      <td>0</td>\n",
       "      <td>0</td>\n",
       "      <td>9</td>\n",
       "      <td>767</td>\n",
       "      <td>688</td>\n",
       "      <td>-1</td>\n",
       "      <td>5</td>\n",
       "      <td>1</td>\n",
       "    </tr>\n",
       "    <tr>\n",
       "      <th>1</th>\n",
       "      <td>11</td>\n",
       "      <td>1</td>\n",
       "      <td>187</td>\n",
       "      <td>6304498</td>\n",
       "      <td>15713</td>\n",
       "      <td>171</td>\n",
       "      <td>46</td>\n",
       "      <td>0</td>\n",
       "      <td>0</td>\n",
       "      <td>0</td>\n",
       "      <td>...</td>\n",
       "      <td>0</td>\n",
       "      <td>0</td>\n",
       "      <td>0</td>\n",
       "      <td>0</td>\n",
       "      <td>9</td>\n",
       "      <td>767</td>\n",
       "      <td>688</td>\n",
       "      <td>-1</td>\n",
       "      <td>5</td>\n",
       "      <td>1</td>\n",
       "    </tr>\n",
       "    <tr>\n",
       "      <th>2</th>\n",
       "      <td>11</td>\n",
       "      <td>2</td>\n",
       "      <td>235</td>\n",
       "      <td>6311567</td>\n",
       "      <td>8030</td>\n",
       "      <td>58</td>\n",
       "      <td>46</td>\n",
       "      <td>0</td>\n",
       "      <td>0</td>\n",
       "      <td>0</td>\n",
       "      <td>...</td>\n",
       "      <td>0</td>\n",
       "      <td>0</td>\n",
       "      <td>0</td>\n",
       "      <td>0</td>\n",
       "      <td>9</td>\n",
       "      <td>767</td>\n",
       "      <td>688</td>\n",
       "      <td>-1</td>\n",
       "      <td>5</td>\n",
       "      <td>1</td>\n",
       "    </tr>\n",
       "    <tr>\n",
       "      <th>3</th>\n",
       "      <td>11</td>\n",
       "      <td>3</td>\n",
       "      <td>59</td>\n",
       "      <td>7878</td>\n",
       "      <td>16439</td>\n",
       "      <td>182</td>\n",
       "      <td>46</td>\n",
       "      <td>0</td>\n",
       "      <td>0</td>\n",
       "      <td>0</td>\n",
       "      <td>...</td>\n",
       "      <td>0</td>\n",
       "      <td>0</td>\n",
       "      <td>0</td>\n",
       "      <td>0</td>\n",
       "      <td>9</td>\n",
       "      <td>767</td>\n",
       "      <td>688</td>\n",
       "      <td>-1</td>\n",
       "      <td>5</td>\n",
       "      <td>1</td>\n",
       "    </tr>\n",
       "    <tr>\n",
       "      <th>4</th>\n",
       "      <td>9</td>\n",
       "      <td>0</td>\n",
       "      <td>188</td>\n",
       "      <td>6304547</td>\n",
       "      <td>16497</td>\n",
       "      <td>183</td>\n",
       "      <td>46</td>\n",
       "      <td>0</td>\n",
       "      <td>0</td>\n",
       "      <td>0</td>\n",
       "      <td>...</td>\n",
       "      <td>0</td>\n",
       "      <td>0</td>\n",
       "      <td>0</td>\n",
       "      <td>0</td>\n",
       "      <td>7</td>\n",
       "      <td>489</td>\n",
       "      <td>403</td>\n",
       "      <td>-1</td>\n",
       "      <td>5</td>\n",
       "      <td>1</td>\n",
       "    </tr>\n",
       "  </tbody>\n",
       "</table>\n",
       "<p>5 rows × 34 columns</p>\n",
       "</div>"
      ],
      "text/plain": [
       "   Switch ID  Port Number  Received Packets  Received Bytes  Sent Bytes  \\\n",
       "0         11            0               132            9181     6311853   \n",
       "1         11            1               187         6304498       15713   \n",
       "2         11            2               235         6311567        8030   \n",
       "3         11            3                59            7878       16439   \n",
       "4          9            0               188         6304547       16497   \n",
       "\n",
       "   Sent Packets  Port alive Duration (S)  Packets Rx Dropped  \\\n",
       "0           238                       46                   0   \n",
       "1           171                       46                   0   \n",
       "2            58                       46                   0   \n",
       "3           182                       46                   0   \n",
       "4           183                       46                   0   \n",
       "\n",
       "   Packets Tx Dropped  Packets Rx Errors  ...  Unknown Load/Latest  \\\n",
       "0                   0                  0  ...                    0   \n",
       "1                   0                  0  ...                    0   \n",
       "2                   0                  0  ...                    0   \n",
       "3                   0                  0  ...                    0   \n",
       "4                   0                  0  ...                    0   \n",
       "\n",
       "   Latest bytes counter  is_valid  Table ID  Active Flow Entries  \\\n",
       "0                     0         0         0                    9   \n",
       "1                     0         0         0                    9   \n",
       "2                     0         0         0                    9   \n",
       "3                     0         0         0                    9   \n",
       "4                     0         0         0                    7   \n",
       "\n",
       "   Packets Looked Up  Packets Matched  Max Size  Label  Binary Label  \n",
       "0                767              688        -1      5             1  \n",
       "1                767              688        -1      5             1  \n",
       "2                767              688        -1      5             1  \n",
       "3                767              688        -1      5             1  \n",
       "4                489              403        -1      5             1  \n",
       "\n",
       "[5 rows x 34 columns]"
      ]
     },
     "execution_count": 6,
     "metadata": {},
     "output_type": "execute_result"
    }
   ],
   "source": [
    "data.head()"
   ]
  },
  {
   "cell_type": "code",
   "execution_count": 8,
   "id": "727e722c",
   "metadata": {},
   "outputs": [
    {
     "data": {
      "text/plain": [
       "<Axes: >"
      ]
     },
     "execution_count": 8,
     "metadata": {},
     "output_type": "execute_result"
    },
    {
     "data": {
      "image/png": "[encoded data removed]",
      "text/plain": [
       "<Figure size 640x480 with 1 Axes>"
      ]
     },
     "metadata": {},
     "output_type": "display_data"
    }
   ],
   "source": [
    "X = data.drop('Binary Label',axis=1)\n",
    "y = data['Binary Label']\n",
    "data['Binary Label'].value_counts().plot.bar()"
   ]
  },
  {
   "cell_type": "code",
   "execution_count": 11,
   "id": "96494f55",
   "metadata": {},
   "outputs": [
    {
     "data": {
      "text/plain": [
       "(37411, 33)"
      ]
     },
     "execution_count": 11,
     "metadata": {},
     "output_type": "execute_result"
    }
   ],
   "source": [
    "X.shape"
   ]
  },
  {
   "cell_type": "code",
   "execution_count": 12,
   "id": "38441804",
   "metadata": {},
   "outputs": [
    {
     "data": {
      "text/plain": [
       "(37411,)"
      ]
     },
     "execution_count": 12,
     "metadata": {},
     "output_type": "execute_result"
    }
   ],
   "source": [
    "y.shape"
   ]
  },
  {
   "cell_type": "code",
   "execution_count": 13,
   "id": "170e3f73",
   "metadata": {},
   "outputs": [],
   "source": [
    "# Split data into training and testing sets\n",
    "X_train, X_test, y_train, y_test = train_test_split(X, y, test_size=0.2, random_state=1)\n",
    "\n"
   ]
  },
  {
   "cell_type": "code",
   "execution_count": 15,
   "id": "7053a313",
   "metadata": {},
   "outputs": [
    {
     "data": {
      "text/plain": [
       "(29928, 33)"
      ]
     },
     "execution_count": 15,
     "metadata": {},
     "output_type": "execute_result"
    }
   ],
   "source": [
    "X_train.shape"
   ]
  },
  {
   "cell_type": "code",
   "execution_count": 16,
   "id": "3dd5930c",
   "metadata": {},
   "outputs": [
    {
     "data": {
      "text/plain": [
       "(7483, 33)"
      ]
     },
     "execution_count": 16,
     "metadata": {},
     "output_type": "execute_result"
    }
   ],
   "source": [
    "X_test.shape"
   ]
  },
  {
   "cell_type": "code",
   "execution_count": 17,
   "id": "453d240f",
   "metadata": {},
   "outputs": [
    {
     "data": {
      "text/plain": [
       "(29928,)"
      ]
     },
     "execution_count": 17,
     "metadata": {},
     "output_type": "execute_result"
    }
   ],
   "source": [
    "y_train.shape"
   ]
  },
  {
   "cell_type": "code",
   "execution_count": 18,
   "id": "1fb6a52a",
   "metadata": {},
   "outputs": [
    {
     "data": {
      "text/plain": [
       "(7483,)"
      ]
     },
     "execution_count": 18,
     "metadata": {},
     "output_type": "execute_result"
    }
   ],
   "source": [
    "y_test.shape"
   ]
  },
  {
   "cell_type": "markdown",
   "id": "3e0b55df",
   "metadata": {},
   "source": [
    "# logistic regression"
   ]
  },
  {
   "cell_type": "code",
   "execution_count": 19,
   "id": "ffd236ee",
   "metadata": {},
   "outputs": [
    {
     "name": "stderr",
     "output_type": "stream",
     "text": [
      "C:\\Users\\CSC\\anaconda3\\Lib\\site-packages\\sklearn\\linear_model\\_logistic.py:460: ConvergenceWarning: lbfgs failed to converge (status=1):\n",
      "STOP: TOTAL NO. of ITERATIONS REACHED LIMIT.\n",
      "\n",
      "Increase the number of iterations (max_iter) or scale the data as shown in:\n",
      "    https://scikit-learn.org/stable/modules/preprocessing.html\n",
      "Please also refer to the documentation for alternative solver options:\n",
      "    https://scikit-learn.org/stable/modules/linear_model.html#logistic-regression\n",
      "  n_iter_i = _check_optimize_result(\n"
     ]
    },
    {
     "data": {
      "text/html": [
       "<style>#sk-container-id-1 {color: black;}#sk-container-id-1 pre{padding: 0;}#sk-container-id-1 div.sk-toggleable {background-color: white;}#sk-container-id-1 label.sk-toggleable__label {cursor: pointer;display: block;width: 100%;margin-bottom: 0;padding: 0.3em;box-sizing: border-box;text-align: center;}#sk-container-id-1 label.sk-toggleable__label-arrow:before {content: \"▸\";float: left;margin-right: 0.25em;color: #696969;}#sk-container-id-1 label.sk-toggleable__label-arrow:hover:before {color: black;}#sk-container-id-1 div.sk-estimator:hover label.sk-toggleable__label-arrow:before {color: black;}#sk-container-id-1 div.sk-toggleable__content {max-height: 0;max-width: 0;overflow: hidden;text-align: left;background-color: #f0f8ff;}#sk-container-id-1 div.sk-toggleable__content pre {margin: 0.2em;color: black;border-radius: 0.25em;background-color: #f0f8ff;}#sk-container-id-1 input.sk-toggleable__control:checked~div.sk-toggleable__content {max-height: 200px;max-width: 100%;overflow: auto;}#sk-container-id-1 input.sk-toggleable__control:checked~label.sk-toggleable__label-arrow:before {content: \"▾\";}#sk-container-id-1 div.sk-estimator input.sk-toggleable__control:checked~label.sk-toggleable__label {background-color: #d4ebff;}#sk-container-id-1 div.sk-label input.sk-toggleable__control:checked~label.sk-toggleable__label {background-color: #d4ebff;}#sk-container-id-1 input.sk-hidden--visually {border: 0;clip: rect(1px 1px 1px 1px);clip: rect(1px, 1px, 1px, 1px);height: 1px;margin: -1px;overflow: hidden;padding: 0;position: absolute;width: 1px;}#sk-container-id-1 div.sk-estimator {font-family: monospace;background-color: #f0f8ff;border: 1px dotted black;border-radius: 0.25em;box-sizing: border-box;margin-bottom: 0.5em;}#sk-container-id-1 div.sk-estimator:hover {background-color: #d4ebff;}#sk-container-id-1 div.sk-parallel-item::after {content: \"\";width: 100%;border-bottom: 1px solid gray;flex-grow: 1;}#sk-container-id-1 div.sk-label:hover label.sk-toggleable__label {background-color: #d4ebff;}#sk-container-id-1 div.sk-serial::before {content: \"\";position: absolute;border-left: 1px solid gray;box-sizing: border-box;top: 0;bottom: 0;left: 50%;z-index: 0;}#sk-container-id-1 div.sk-serial {display: flex;flex-direction: column;align-items: center;background-color: white;padding-right: 0.2em;padding-left: 0.2em;position: relative;}#sk-container-id-1 div.sk-item {position: relative;z-index: 1;}#sk-container-id-1 div.sk-parallel {display: flex;align-items: stretch;justify-content: center;background-color: white;position: relative;}#sk-container-id-1 div.sk-item::before, #sk-container-id-1 div.sk-parallel-item::before {content: \"\";position: absolute;border-left: 1px solid gray;box-sizing: border-box;top: 0;bottom: 0;left: 50%;z-index: -1;}#sk-container-id-1 div.sk-parallel-item {display: flex;flex-direction: column;z-index: 1;position: relative;background-color: white;}#sk-container-id-1 div.sk-parallel-item:first-child::after {align-self: flex-end;width: 50%;}#sk-container-id-1 div.sk-parallel-item:last-child::after {align-self: flex-start;width: 50%;}#sk-container-id-1 div.sk-parallel-item:only-child::after {width: 0;}#sk-container-id-1 div.sk-dashed-wrapped {border: 1px dashed gray;margin: 0 0.4em 0.5em 0.4em;box-sizing: border-box;padding-bottom: 0.4em;background-color: white;}#sk-container-id-1 div.sk-label label {font-family: monospace;font-weight: bold;display: inline-block;line-height: 1.2em;}#sk-container-id-1 div.sk-label-container {text-align: center;}#sk-container-id-1 div.sk-container {/* jupyter's `normalize.less` sets `[hidden] { display: none; }` but bootstrap.min.css set `[hidden] { display: none !important; }` so we also need the `!important` here to be able to override the default hidden behavior on the sphinx rendered scikit-learn.org. See: https://github.com/scikit-learn/scikit-learn/issues/21755 */display: inline-block !important;position: relative;}#sk-container-id-1 div.sk-text-repr-fallback {display: none;}</style><div id=\"sk-container-id-1\" class=\"sk-top-container\"><div class=\"sk-text-repr-fallback\"><pre>LogisticRegression()</pre><b>In a Jupyter environment, please rerun this cell to show the HTML representation or trust the notebook. <br />On GitHub, the HTML representation is unable to render, please try loading this page with nbviewer.org.</b></div><div class=\"sk-container\" hidden><div class=\"sk-item\"><div class=\"sk-estimator sk-toggleable\"><input class=\"sk-toggleable__control sk-hidden--visually\" id=\"sk-estimator-id-1\" type=\"checkbox\" checked><label for=\"sk-estimator-id-1\" class=\"sk-toggleable__label sk-toggleable__label-arrow\">LogisticRegression</label><div class=\"sk-toggleable__content\"><pre>LogisticRegression()</pre></div></div></div></div></div>"
      ],
      "text/plain": [
       "LogisticRegression()"
      ]
     },
     "execution_count": 19,
     "metadata": {},
     "output_type": "execute_result"
    }
   ],
   "source": [
    "# Initialize and train a logistic regression model\n",
    "model = LogisticRegression()\n",
    "model.fit(X_train, y_train)\n"
   ]
  },
  {
   "cell_type": "code",
   "execution_count": 20,
   "id": "5ecafdd3",
   "metadata": {},
   "outputs": [
    {
     "name": "stdout",
     "output_type": "stream",
     "text": [
      "Accuracy: 0.7980756381130563\n"
     ]
    }
   ],
   "source": [
    "# Predict on the test set\n",
    "y_pred = model.predict(X_test)\n",
    "\n",
    "# Evaluate accuracy\n",
    "accuracy = accuracy_score(y_test, y_pred)\n",
    "print(\"Accuracy:\", accuracy)\n"
   ]
  },
  {
   "cell_type": "markdown",
   "id": "af5cf96d",
   "metadata": {},
   "source": [
    "# MLP"
   ]
  },
  {
   "cell_type": "markdown",
   "id": "f0023ec7",
   "metadata": {},
   "source": [
    "Model1"
   ]
  },
  {
   "cell_type": "code",
   "execution_count": 21,
   "id": "8ec3f94a",
   "metadata": {},
   "outputs": [
    {
     "name": "stdout",
     "output_type": "stream",
     "text": [
      "WARNING:tensorflow:From C:\\Users\\CSC\\anaconda3\\Lib\\site-packages\\keras\\src\\losses.py:2976: The name tf.losses.sparse_softmax_cross_entropy is deprecated. Please use tf.compat.v1.losses.sparse_softmax_cross_entropy instead.\n",
      "\n",
      "WARNING:tensorflow:From C:\\Users\\CSC\\anaconda3\\Lib\\site-packages\\keras\\src\\backend.py:1398: The name tf.executing_eagerly_outside_functions is deprecated. Please use tf.compat.v1.executing_eagerly_outside_functions instead.\n",
      "\n",
      "WARNING:tensorflow:From C:\\Users\\CSC\\anaconda3\\Lib\\site-packages\\keras\\src\\optimizers\\__init__.py:309: The name tf.train.Optimizer is deprecated. Please use tf.compat.v1.train.Optimizer instead.\n",
      "\n"
     ]
    }
   ],
   "source": [
    "import tensorflow as tf\n",
    "\n",
    "\n",
    "model1 = tf.keras.Sequential([\n",
    "    tf.keras.layers.Input(shape=(33,)),\n",
    "    tf.keras.layers.Dense(64, activation='relu'),\n",
    "    tf.keras.layers.Dense(128, activation='relu'),\n",
    "    tf.keras.layers.Dense(256, activation='relu'),\n",
    "    tf.keras.layers.Dense(128, activation='relu'),\n",
    "    tf.keras.layers.Dense(64, activation='relu'),\n",
    "    tf.keras.layers.Dense(32, activation='relu'),\n",
    "    tf.keras.layers.Dense(1, activation='sigmoid')\n",
    "])\n",
    "\n",
    "\n",
    "model1.compile(optimizer='adam',loss='binary_crossentropy',metrics=['accuracy'])\n"
   ]
  },
  {
   "cell_type": "code",
   "execution_count": 22,
   "id": "6fb29790",
   "metadata": {},
   "outputs": [
    {
     "name": "stdout",
     "output_type": "stream",
     "text": [
      "Model: \"sequential\"\n",
      "_________________________________________________________________\n",
      " Layer (type)                Output Shape              Param #   \n",
      "=================================================================\n",
      " dense (Dense)               (None, 64)                2176      \n",
      "                                                                 \n",
      " dense_1 (Dense)             (None, 128)               8320      \n",
      "                                                                 \n",
      " dense_2 (Dense)             (None, 256)               33024     \n",
      "                                                                 \n",
      " dense_3 (Dense)             (None, 128)               32896     \n",
      "                                                                 \n",
      " dense_4 (Dense)             (None, 64)                8256      \n",
      "                                                                 \n",
      " dense_5 (Dense)             (None, 32)                2080      \n",
      "                                                                 \n",
      " dense_6 (Dense)             (None, 1)                 33        \n",
      "                                                                 \n",
      "=================================================================\n",
      "Total params: 86785 (339.00 KB)\n",
      "Trainable params: 86785 (339.00 KB)\n",
      "Non-trainable params: 0 (0.00 Byte)\n",
      "_________________________________________________________________\n"
     ]
    }
   ],
   "source": [
    "model1.summary()"
   ]
  },
  {
   "cell_type": "code",
   "execution_count": 25,
   "id": "fbd3fc24",
   "metadata": {
    "scrolled": true
   },
   "outputs": [
    {
     "name": "stdout",
     "output_type": "stream",
     "text": [
      "Epoch 1/50\n",
      "468/468 [==============================] - 1s 2ms/step - loss: 0.3261 - accuracy: 0.8985\n",
      "Epoch 2/50\n",
      "468/468 [==============================] - 1s 2ms/step - loss: 0.3260 - accuracy: 0.8985\n",
      "Epoch 3/50\n",
      "468/468 [==============================] - 1s 2ms/step - loss: 0.3261 - accuracy: 0.8985\n",
      "Epoch 4/50\n",
      "468/468 [==============================] - 1s 2ms/step - loss: 0.3260 - accuracy: 0.8985\n",
      "Epoch 5/50\n",
      "468/468 [==============================] - 1s 2ms/step - loss: 0.3261 - accuracy: 0.8985\n",
      "Epoch 6/50\n",
      "468/468 [==============================] - 1s 2ms/step - loss: 0.3260 - accuracy: 0.8985\n",
      "Epoch 7/50\n",
      "468/468 [==============================] - 1s 2ms/step - loss: 0.3261 - accuracy: 0.8985\n",
      "Epoch 8/50\n",
      "468/468 [==============================] - 1s 2ms/step - loss: 0.3262 - accuracy: 0.8985\n",
      "Epoch 9/50\n",
      "468/468 [==============================] - 1s 2ms/step - loss: 0.3261 - accuracy: 0.8985\n",
      "Epoch 10/50\n",
      "468/468 [==============================] - 1s 2ms/step - loss: 0.3262 - accuracy: 0.8985\n",
      "Epoch 11/50\n",
      "468/468 [==============================] - 1s 2ms/step - loss: 0.3262 - accuracy: 0.8985\n",
      "Epoch 12/50\n",
      "468/468 [==============================] - 1s 2ms/step - loss: 0.3261 - accuracy: 0.8985\n",
      "Epoch 13/50\n",
      "468/468 [==============================] - 1s 2ms/step - loss: 0.3262 - accuracy: 0.8985\n",
      "Epoch 14/50\n",
      "468/468 [==============================] - 1s 2ms/step - loss: 32.4913 - accuracy: 0.8981\n",
      "Epoch 15/50\n",
      "468/468 [==============================] - 1s 2ms/step - loss: 6.2711 - accuracy: 0.8985\n",
      "Epoch 16/50\n",
      "468/468 [==============================] - 1s 2ms/step - loss: 0.3260 - accuracy: 0.8985\n",
      "Epoch 17/50\n",
      "468/468 [==============================] - 1s 2ms/step - loss: 0.3260 - accuracy: 0.8985\n",
      "Epoch 18/50\n",
      "468/468 [==============================] - 1s 2ms/step - loss: 0.3261 - accuracy: 0.8985\n",
      "Epoch 19/50\n",
      "468/468 [==============================] - 1s 2ms/step - loss: 0.3260 - accuracy: 0.8985\n",
      "Epoch 20/50\n",
      "468/468 [==============================] - 1s 2ms/step - loss: 0.3260 - accuracy: 0.8985\n",
      "Epoch 21/50\n",
      "468/468 [==============================] - 1s 2ms/step - loss: 0.3260 - accuracy: 0.8985\n",
      "Epoch 22/50\n",
      "468/468 [==============================] - 1s 2ms/step - loss: 0.3261 - accuracy: 0.8985\n",
      "Epoch 23/50\n",
      "468/468 [==============================] - 1s 2ms/step - loss: 0.3274 - accuracy: 0.8985\n",
      "Epoch 24/50\n",
      "468/468 [==============================] - 1s 2ms/step - loss: 0.3261 - accuracy: 0.8985\n",
      "Epoch 25/50\n",
      "468/468 [==============================] - 1s 2ms/step - loss: 0.3261 - accuracy: 0.8985\n",
      "Epoch 26/50\n",
      "468/468 [==============================] - 1s 2ms/step - loss: 0.3261 - accuracy: 0.8985\n",
      "Epoch 27/50\n",
      "468/468 [==============================] - 1s 2ms/step - loss: 0.3261 - accuracy: 0.8985\n",
      "Epoch 28/50\n",
      "468/468 [==============================] - 1s 2ms/step - loss: 0.3261 - accuracy: 0.8985\n",
      "Epoch 29/50\n",
      "468/468 [==============================] - 1s 2ms/step - loss: 0.3261 - accuracy: 0.8985\n",
      "Epoch 30/50\n",
      "468/468 [==============================] - 1s 2ms/step - loss: 0.3260 - accuracy: 0.8985\n",
      "Epoch 31/50\n",
      "468/468 [==============================] - 1s 2ms/step - loss: 0.3261 - accuracy: 0.8985\n",
      "Epoch 32/50\n",
      "468/468 [==============================] - 1s 2ms/step - loss: 0.3261 - accuracy: 0.8985\n",
      "Epoch 33/50\n",
      "468/468 [==============================] - 1s 2ms/step - loss: 0.3261 - accuracy: 0.8985\n",
      "Epoch 34/50\n",
      "468/468 [==============================] - 1s 2ms/step - loss: 0.3261 - accuracy: 0.8985\n",
      "Epoch 35/50\n",
      "468/468 [==============================] - 1s 2ms/step - loss: 0.3260 - accuracy: 0.8985\n",
      "Epoch 36/50\n",
      "468/468 [==============================] - 1s 2ms/step - loss: 0.3261 - accuracy: 0.8985\n",
      "Epoch 37/50\n",
      "468/468 [==============================] - 1s 2ms/step - loss: 0.3262 - accuracy: 0.8985\n",
      "Epoch 38/50\n",
      "468/468 [==============================] - 1s 2ms/step - loss: 0.3261 - accuracy: 0.8985\n",
      "Epoch 39/50\n",
      "468/468 [==============================] - 1s 2ms/step - loss: 0.3262 - accuracy: 0.8985\n",
      "Epoch 40/50\n",
      "468/468 [==============================] - 1s 2ms/step - loss: 0.3261 - accuracy: 0.8985\n",
      "Epoch 41/50\n",
      "468/468 [==============================] - 1s 2ms/step - loss: 0.3261 - accuracy: 0.8985\n",
      "Epoch 42/50\n",
      "468/468 [==============================] - 1s 2ms/step - loss: 0.3261 - accuracy: 0.8985\n",
      "Epoch 43/50\n",
      "468/468 [==============================] - 1s 2ms/step - loss: 0.3261 - accuracy: 0.8985\n",
      "Epoch 44/50\n",
      "468/468 [==============================] - 1s 2ms/step - loss: 0.3262 - accuracy: 0.8985\n",
      "Epoch 45/50\n",
      "468/468 [==============================] - 1s 2ms/step - loss: 0.3261 - accuracy: 0.8985\n",
      "Epoch 46/50\n",
      "468/468 [==============================] - 1s 2ms/step - loss: 0.3260 - accuracy: 0.8985\n",
      "Epoch 47/50\n",
      "468/468 [==============================] - 1s 2ms/step - loss: 0.3262 - accuracy: 0.8985\n",
      "Epoch 48/50\n",
      "468/468 [==============================] - 1s 2ms/step - loss: 0.3261 - accuracy: 0.8985\n",
      "Epoch 49/50\n",
      "468/468 [==============================] - 1s 2ms/step - loss: 0.3261 - accuracy: 0.8985\n",
      "Epoch 50/50\n",
      "468/468 [==============================] - 1s 2ms/step - loss: 0.3261 - accuracy: 0.8985\n"
     ]
    },
    {
     "data": {
      "text/plain": [
       "<keras.src.callbacks.History at 0x225d65e7b90>"
      ]
     },
     "execution_count": 25,
     "metadata": {},
     "output_type": "execute_result"
    }
   ],
   "source": [
    "model1.fit(X_train, y_train, epochs=50, batch_size=64)"
   ]
  },
  {
   "cell_type": "code",
   "execution_count": 26,
   "id": "f7fb5bc2",
   "metadata": {},
   "outputs": [
    {
     "name": "stdout",
     "output_type": "stream",
     "text": [
      "234/234 [==============================] - 0s 1ms/step - loss: 0.3192 - accuracy: 0.9016\n",
      "Test Accuracy: 0.9016437530517578\n"
     ]
    }
   ],
   "source": [
    "# Evaluate the model on the test set\n",
    "loss, accuracy = model1.evaluate(X_test, y_test)\n",
    "print(\"Test Accuracy:\", accuracy)"
   ]
  },
  {
   "cell_type": "markdown",
   "id": "ee703a48",
   "metadata": {},
   "source": [
    "Model2"
   ]
  },
  {
   "cell_type": "code",
   "execution_count": 27,
   "id": "9b1eb4eb",
   "metadata": {},
   "outputs": [],
   "source": [
    "import tensorflow as tf\n",
    "\n",
    "\n",
    "model2 = tf.keras.Sequential([\n",
    "    tf.keras.layers.Input(shape=(33,)),\n",
    "    tf.keras.layers.Dense(64, activation='relu'),\n",
    "    tf.keras.layers.Dense(32, activation='relu'),\n",
    "    tf.keras.layers.Dense(1, activation='sigmoid')\n",
    "])\n",
    "\n",
    "\n",
    "model2.compile(optimizer='adam',loss='binary_crossentropy',metrics=['accuracy'])"
   ]
  },
  {
   "cell_type": "code",
   "execution_count": 28,
   "id": "aeb9f8b7",
   "metadata": {},
   "outputs": [
    {
     "name": "stdout",
     "output_type": "stream",
     "text": [
      "Model: \"sequential_1\"\n",
      "_________________________________________________________________\n",
      " Layer (type)                Output Shape              Param #   \n",
      "=================================================================\n",
      " dense_7 (Dense)             (None, 64)                2176      \n",
      "                                                                 \n",
      " dense_8 (Dense)             (None, 32)                2080      \n",
      "                                                                 \n",
      " dense_9 (Dense)             (None, 1)                 33        \n",
      "                                                                 \n",
      "=================================================================\n",
      "Total params: 4289 (16.75 KB)\n",
      "Trainable params: 4289 (16.75 KB)\n",
      "Non-trainable params: 0 (0.00 Byte)\n",
      "_________________________________________________________________\n"
     ]
    }
   ],
   "source": [
    "model2.summary()"
   ]
  },
  {
   "cell_type": "code",
   "execution_count": 31,
   "id": "3c30fa25",
   "metadata": {
    "scrolled": true
   },
   "outputs": [
    {
     "name": "stdout",
     "output_type": "stream",
     "text": [
      "Epoch 1/20\n",
      "936/936 [==============================] - 1s 2ms/step - loss: 11701.6289 - accuracy: 0.9331\n",
      "Epoch 2/20\n",
      "936/936 [==============================] - 1s 2ms/step - loss: 4015.3003 - accuracy: 0.9512\n",
      "Epoch 3/20\n",
      "936/936 [==============================] - 1s 2ms/step - loss: 4778.1426 - accuracy: 0.9438\n",
      "Epoch 4/20\n",
      "936/936 [==============================] - 1s 2ms/step - loss: 4514.1440 - accuracy: 0.9437\n",
      "Epoch 5/20\n",
      "936/936 [==============================] - 1s 1ms/step - loss: 4433.4736 - accuracy: 0.9407\n",
      "Epoch 6/20\n",
      "936/936 [==============================] - 1s 1ms/step - loss: 4067.9209 - accuracy: 0.9436\n",
      "Epoch 7/20\n",
      "936/936 [==============================] - 1s 2ms/step - loss: 3240.0942 - accuracy: 0.9503\n",
      "Epoch 8/20\n",
      "936/936 [==============================] - 1s 2ms/step - loss: 2233.9673 - accuracy: 0.9541\n",
      "Epoch 9/20\n",
      "936/936 [==============================] - 1s 2ms/step - loss: 1694.5917 - accuracy: 0.9545\n",
      "Epoch 10/20\n",
      "936/936 [==============================] - 1s 1ms/step - loss: 1607.8202 - accuracy: 0.9574\n",
      "Epoch 11/20\n",
      "936/936 [==============================] - 1s 2ms/step - loss: 1963.4741 - accuracy: 0.9537\n",
      "Epoch 12/20\n",
      "936/936 [==============================] - 1s 2ms/step - loss: 1360.0863 - accuracy: 0.9536\n",
      "Epoch 13/20\n",
      "936/936 [==============================] - 1s 2ms/step - loss: 985.2330 - accuracy: 0.9556\n",
      "Epoch 14/20\n",
      "936/936 [==============================] - 1s 2ms/step - loss: 941.8489 - accuracy: 0.9576\n",
      "Epoch 15/20\n",
      "936/936 [==============================] - 1s 1ms/step - loss: 732.0799 - accuracy: 0.9562\n",
      "Epoch 16/20\n",
      "936/936 [==============================] - 1s 1ms/step - loss: 632.7451 - accuracy: 0.9595\n",
      "Epoch 17/20\n",
      "936/936 [==============================] - 1s 1ms/step - loss: 681.2026 - accuracy: 0.9565\n",
      "Epoch 18/20\n",
      "936/936 [==============================] - 1s 2ms/step - loss: 477.5508 - accuracy: 0.9572\n",
      "Epoch 19/20\n",
      "936/936 [==============================] - 1s 1ms/step - loss: 403.0885 - accuracy: 0.9587\n",
      "Epoch 20/20\n",
      "936/936 [==============================] - 1s 1ms/step - loss: 315.4813 - accuracy: 0.9607\n"
     ]
    },
    {
     "data": {
      "text/plain": [
       "<keras.src.callbacks.History at 0x225d702fa10>"
      ]
     },
     "execution_count": 31,
     "metadata": {},
     "output_type": "execute_result"
    }
   ],
   "source": [
    "model2.fit(X_train, y_train, epochs=20, batch_size=32)"
   ]
  },
  {
   "cell_type": "code",
   "execution_count": 32,
   "id": "94f63ec3",
   "metadata": {},
   "outputs": [
    {
     "name": "stdout",
     "output_type": "stream",
     "text": [
      "234/234 [==============================] - 0s 1ms/step - loss: 231.0058 - accuracy: 0.9583\n",
      "Test Accuracy: 0.9583054780960083\n"
     ]
    }
   ],
   "source": [
    "# Evaluate the model on the test set\n",
    "loss, accuracy = model2.evaluate(X_test, y_test)\n",
    "print(\"Test Accuracy:\", accuracy)"
   ]
  },
  {
   "cell_type": "code",
   "execution_count": null,
   "id": "8850004b",
   "metadata": {},
   "outputs": [],
   "source": []
  }
 ],
 "metadata": {
  "kernelspec": {
   "display_name": "Python 3 (ipykernel)",
   "language": "python",
   "name": "python3"
  },
  "language_info": {
   "codemirror_mode": {
    "name": "ipython",
    "version": 3
   },
   "file_extension": ".py",
   "mimetype": "text/x-python",
   "name": "python",
   "nbconvert_exporter": "python",
   "pygments_lexer": "ipython3",
   "version": "3.11.4"
  }
 },
 "nbformat": 4,
 "nbformat_minor": 5
}
