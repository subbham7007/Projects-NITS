{
 "cells": [
  {
   "cell_type": "code",
   "execution_count": 158,
   "id": "3fc0f661",
   "metadata": {},
   "outputs": [
    {
     "name": "stdout",
     "output_type": "stream",
     "text": [
      "Math\n",
      "0\n"
     ]
    }
   ],
   "source": [
    "class Solution:\n",
    "#     __init__  is a class constructor\n",
    "    def __init__(self, val1, val2):\n",
    "        self.attr1 = val1 #calling variable is attr1 not val1\n",
    "        self.attr2 = val2\n",
    "        \n",
    "    def print_value(self):\n",
    "        print(self.attr1)\n",
    "        print(self.attr2)\n",
    "myobj1 = Solution('Math',2//3)\n",
    "\n",
    "# This is How you call the method of a Class via the OBject inmstance created\n",
    "\n",
    "myobj1.print_value()\n",
    "    "
   ]
  },
  {
   "cell_type": "code",
   "execution_count": 159,
   "id": "6e12c9fb",
   "metadata": {},
   "outputs": [
    {
     "name": "stdout",
     "output_type": "stream",
     "text": [
      "Math\n"
     ]
    }
   ],
   "source": [
    "print(myobj1.attr1)"
   ]
  },
  {
   "cell_type": "markdown",
   "id": "7d9960e7",
   "metadata": {},
   "source": [
    "Creating a class and object with class and instance attributes"
   ]
  },
  {
   "cell_type": "code",
   "execution_count": 160,
   "id": "5e71b4ba",
   "metadata": {},
   "outputs": [
    {
     "name": "stdout",
     "output_type": "stream",
     "text": [
      "Rodger is a mammal\n",
      "Tommy is a mammal\n",
      "My name is Rodger\n",
      "My name is Tommy\n",
      "\n",
      " --Accessing calss variables\n",
      "My name is Rodger\n",
      "My name is Tommy\n"
     ]
    }
   ],
   "source": [
    "class Dog:\n",
    "    #class attribute\n",
    "    attr1 = \"mammal\"\n",
    "    \n",
    "    #Instance attribute\n",
    "    def __init__(self, name):\n",
    "        self.name = name\n",
    "    def speak(self):\n",
    "        print(\"My name is {}\".format(self.name))\n",
    "Rodger = Dog(\"Rodger\")\n",
    "Tommy = Dog(\"Tommy\")\n",
    "\n",
    "# Accessing class attributes\n",
    "print(\"Rodger is a {}\".format(Rodger.__class__.attr1))\n",
    "print(\"Tommy is a {}\".format(Tommy.__class__.attr1))\n",
    "\n",
    "#Acessing instance attributes\n",
    "print(\"My name is {}\".format(Rodger.name))#1 way of printing \n",
    "print(f\"My name is {Tommy.name}\") # Another WAy of printing\n",
    "\n",
    "print(\"\\n --Accessing calss variables\")\n",
    "Rodger.speak()\n",
    "Tommy.speak()\n",
    "    \n",
    "    "
   ]
  },
  {
   "cell_type": "markdown",
   "id": "7252c4b3",
   "metadata": {},
   "source": [
    "# Inheritance"
   ]
  },
  {
   "cell_type": "code",
   "execution_count": 161,
   "id": "80a5c0a5",
   "metadata": {},
   "outputs": [
    {
     "name": "stdout",
     "output_type": "stream",
     "text": [
      "Raj\n",
      "747437\n",
      "My nmame is Raj\n",
      "My Idnumber is 747437\n",
      "Post: SDEIntern\n",
      "DK\n",
      "86654\n"
     ]
    }
   ],
   "source": [
    "class Person(object):\n",
    "    def __init__(self, name, idnumber):\n",
    "        self.name = name\n",
    "        self.idnumber = idnumber\n",
    "    \n",
    "    def display(self):\n",
    "        print(self.name)\n",
    "        print(self.idnumber)\n",
    "        \n",
    "    def details(self):\n",
    "        print(\"My name is {}\".format(self.name))\n",
    "        print(\"My Idnumber is {}\".format(self.idnumber))\n",
    "        \n",
    "#CHILD CLASS1 SAME AS THE PARENT\n",
    "class Employee1(Person):\n",
    "    pass\n",
    "    \n",
    "        \n",
    "#child class2\n",
    "class Employee(Person):\n",
    "    def __init__(self, name, idnumber, salary, post):\n",
    "        self.salary = salary\n",
    "        self.post = post\n",
    "        \n",
    "    #Involving the __init__ of the parent class\n",
    "        Person.__init__(self,name,idnumber)\n",
    "    ''' The super() function is a built-in function that returns the objects that represent the parent class.\n",
    "            It allows to access the parent class’s methods and attributes in the child class.'''\n",
    "         # OR super().__init__(name, idnumber) <-- This is the Syntax without \"self \"\"\n",
    "        \n",
    "    def details(self):\n",
    "        print(\"My nmame is {}\".format(self.name))\n",
    "        print(\"My Idnumber is {}\".format(self.idnumber))\n",
    "        print(\"Post: {}\".format(self.post))\n",
    "        \n",
    "# Creating  AN instance of Class\n",
    "e1 = Employee('Raj', 747437, 112363, 'SDEIntern')\n",
    "e2 = Employee1(\"DK\", 86654)\n",
    "\n",
    "# Calling a function of Parent Class Person using its instance created just now\n",
    "e1.display()\n",
    "e1.details()\n",
    "\n",
    "#jUST Without any addittional Elements\n",
    "e2.display()\n",
    "        \n",
    "        \n",
    "        \n",
    "        "
   ]
  },
  {
   "cell_type": "markdown",
   "id": "49a28f85",
   "metadata": {},
   "source": [
    "# Polymorphism"
   ]
  },
  {
   "cell_type": "code",
   "execution_count": 162,
   "id": "6b67932e",
   "metadata": {},
   "outputs": [],
   "source": [
    "class Bird:\n",
    "    def intro(self):\n",
    "        print(\"There are many birds.\")\n",
    "        \n",
    "    def flight(self):\n",
    "        print(\"Most of the birds can fly but some can't fly.\")\n",
    "        \n",
    "class Ostrich(Bird):\n",
    "    def flight(self):\n",
    "        print(\"Sparrows can fly.\")\n",
    "\n",
    "class sparrow(Bird):\n",
    "    def flight(self):\n",
    "        print(\"Ostrich cannot fly.\")"
   ]
  },
  {
   "cell_type": "code",
   "execution_count": 163,
   "id": "dba6f157",
   "metadata": {
    "scrolled": true
   },
   "outputs": [
    {
     "name": "stdout",
     "output_type": "stream",
     "text": [
      "There are many birds.\n",
      "Most of the birds can fly but some can't fly.\n",
      " \n",
      "There are many birds.\n",
      "Ostrich cannot fly.\n",
      " \n",
      "There are many birds.\n",
      "Sparrows can fly.\n",
      " \n"
     ]
    }
   ],
   "source": [
    "obj_Bird = Bird()    # Polymorphism is like function overriding \n",
    "                     # i.e., Overriding the function  in the Parent Class\n",
    "obj_Ostrich = Ostrich()\n",
    "obj_sparrow = sparrow()\n",
    "s = [obj_Bird, obj_sparrow, obj_Ostrich]\n",
    "\n",
    "for i in s:\n",
    "    i.intro(), i.flight()\n",
    "    print(\" \")\n"
   ]
  },
  {
   "cell_type": "markdown",
   "id": "19ba1c50",
   "metadata": {},
   "source": [
    "# #Encapsulation"
   ]
  },
  {
   "cell_type": "markdown",
   "id": "5a59aae6",
   "metadata": {},
   "source": [
    " It describes the idea of wrapping data and the methods that work on data within one unit. This puts restrictions on accessing variables and methods directly and can prevent the accidental modification of data. To prevent accidental change, an object’s variable can only be changed by an object’s method. Those types of variables are known as private variables."
   ]
  },
  {
   "cell_type": "markdown",
   "id": "8554456a",
   "metadata": {},
   "source": [
    "Private variables are declared using \" __ double underscore\""
   ]
  },
  {
   "cell_type": "code",
   "execution_count": 164,
   "id": "d770d001",
   "metadata": {},
   "outputs": [],
   "source": [
    "class Base:\n",
    "    def __init__(self):\n",
    "        self.a = \"Subham gupta\"\n",
    "        self.__c = \"Subham gupta\"\n",
    "\n",
    "        "
   ]
  },
  {
   "cell_type": "code",
   "execution_count": 165,
   "id": "820e9c89",
   "metadata": {},
   "outputs": [],
   "source": [
    "\n",
    "            \n",
    "#Creating a Derived Class Inheriting the Base Class\n",
    "class Derived(Base):\n",
    "    def __init__(self):\n",
    "        \n",
    "        #Calling consructor of\n",
    "        # Base Class\n",
    "        Base.__init__(self)\n",
    "        print(\"Calling private membere of Base Class\")\n",
    "        print(self.__c)\n",
    "        "
   ]
  },
  {
   "cell_type": "code",
   "execution_count": 166,
   "id": "af9c4223",
   "metadata": {},
   "outputs": [],
   "source": [
    "#Creating class instance"
   ]
  },
  {
   "cell_type": "code",
   "execution_count": 167,
   "id": "7d829f89",
   "metadata": {},
   "outputs": [],
   "source": [
    "obj = Base()"
   ]
  },
  {
   "cell_type": "code",
   "execution_count": 168,
   "id": "fd7c03df",
   "metadata": {},
   "outputs": [
    {
     "data": {
      "text/plain": [
       "'Subham gupta'"
      ]
     },
     "execution_count": 168,
     "metadata": {},
     "output_type": "execute_result"
    }
   ],
   "source": [
    "obj.a"
   ]
  },
  {
   "cell_type": "code",
   "execution_count": 169,
   "id": "a133f650",
   "metadata": {},
   "outputs": [
    {
     "name": "stdout",
     "output_type": "stream",
     "text": [
      "Hello\n",
      "Welcome\n",
      "to GeeksforGeeks\n"
     ]
    }
   ],
   "source": [
    "def myFun(*m):\n",
    "    for i in m:\n",
    "        print(i)\n",
    " \n",
    " \n",
    "myFun(\"Hello\", \"Welcome\", \"to GeeksforGeeks\"\n",
    "     )"
   ]
  },
  {
   "cell_type": "code",
   "execution_count": 170,
   "id": "3eaf2184",
   "metadata": {},
   "outputs": [
    {
     "name": "stdout",
     "output_type": "stream",
     "text": [
      "first = Geeks\n",
      "second = for\n",
      "lst = Geeks\n",
      "first\n",
      "second\n",
      "lst\n",
      "Geeks\n",
      "for\n",
      "Geeks\n"
     ]
    }
   ],
   "source": [
    "def myFun(**kwargs):\n",
    "    for key, value in kwargs.items():\n",
    "        print(\"%s = %s\" % (key, value))\n",
    "        \n",
    "    for key in kwargs.keys():\n",
    "        print(key)\n",
    "        \n",
    "    for item in kwargs.values():\n",
    "        print(item)\n",
    " \n",
    " \n",
    "# Driver code\n",
    "myFun(first='Geeks', second='for', lst='Geeks')"
   ]
  },
  {
   "cell_type": "markdown",
   "id": "cee98653",
   "metadata": {},
   "source": [
    "# for Encapsulation in Python\n",
    " "
   ]
  },
  {
   "cell_type": "raw",
   "id": "5b45f1a0",
   "metadata": {},
   "source": [
    "# Encapsulation is one of the fundamental concepts in object-oriented programming (OOP). It describes the idea of wrapping data and the methods that work on data within one unit. This puts restrictions on accessing variables and methods directly and can prevent the accidental modification of data. To prevent accidental change, an object’s variable can only be changed by an object’s method. Those types of variables are known as private variables.Protected members (in C++ and JAVA) are those members of the class that cannot be accessed outside the class but can be accessed from within the class and its subclasses. To accomplish this in Python, just follow the convention by prefixing the name of the member by a single underscore “_”."
   ]
  },
  {
   "cell_type": "code",
   "execution_count": 185,
   "id": "552947ed",
   "metadata": {},
   "outputs": [
    {
     "name": "stdout",
     "output_type": "stream",
     "text": [
      "2\n",
      "2\n",
      "<__main__.Base object at 0x000001C2083E9C90>\n",
      "<__main__.Derived object at 0x000001C207ED2850>\n",
      "'class inhibites'\n"
     ]
    },
    {
     "data": {
      "text/plain": [
       "2"
      ]
     },
     "execution_count": 185,
     "metadata": {},
     "output_type": "execute_result"
    }
   ],
   "source": [
    "class Base(object):\n",
    "    def __init__(self):\n",
    "        \n",
    "        #Protected member\n",
    "        self._a = 2\n",
    "        \n",
    "    def cass(self):\n",
    "            print(\"'class inhibites'\")\n",
    "        \n",
    "#Creating Deried class\n",
    "class Derived(Base):\n",
    "    def _init__(self):\n",
    "        \n",
    "        #Calling Constructor of base class \n",
    "        Base.__init__(self)\n",
    "        print(self._a)\n",
    "        self._a = 4\n",
    "        print(\"MODIFIED lcass \",self._a)\n",
    "\n",
    " #Creating Object for both Base and Derived class\n",
    "obj1 = Base()\n",
    "obj2 = Derived()\n",
    "\n",
    "print(obj1._a)\n",
    "print(obj2._a)\n",
    "print(obj1)\n",
    "print(obj2)\n",
    "obj1.cass()\n",
    "obj2._a"
   ]
  },
  {
   "cell_type": "code",
   "execution_count": 191,
   "id": "dadc9656",
   "metadata": {},
   "outputs": [
    {
     "name": "stdout",
     "output_type": "stream",
     "text": [
      "Calling protected member of base class:  2\n",
      "Calling modified protected member outside class:  3\n",
      "Accessing protected member of obj1:  3\n",
      "Accessing protected member of obj2:  2\n"
     ]
    }
   ],
   "source": [
    "\n",
    "# Python program to \n",
    "# demonstrate protected members \n",
    "  \n",
    "# Creating a base class \n",
    "class Base: \n",
    "    def __init__(self): \n",
    "  \n",
    "        # Protected member \n",
    "        self._a = 2\n",
    "        #print(\"ok\")\n",
    "  \n",
    "# Creating a derived class \n",
    "class Derived(Base): \n",
    "    def __init__(self): \n",
    "  \n",
    "        # Calling constructor of \n",
    "        # Base class \n",
    "        Base.__init__(self) \n",
    "        print(\"Calling protected member of base class: \",  \n",
    "              self._a) \n",
    "  \n",
    "        # Modify the protected variable: \n",
    "        self._a = 3\n",
    "        print(\"Calling modified protected member outside class: \", \n",
    "              self._a) \n",
    "  \n",
    "  \n",
    "obj1 = Derived() \n",
    "  \n",
    "obj2 = Base() \n",
    "  \n",
    "# Calling protected member \n",
    "# Can be accessed but should not be done due to convention \n",
    "print(\"Accessing protected member of obj1: \", obj1._a) \n",
    "  \n",
    "# Accessing the protected variable outside \n",
    "print(\"Accessing protected member of obj2: \", obj2._a) "
   ]
  },
  {
   "cell_type": "markdown",
   "id": "cce5c6e4",
   "metadata": {},
   "source": [
    "# Constructors in Python\n"
   ]
  },
  {
   "cell_type": "markdown",
   "id": "b012e1c0",
   "metadata": {},
   "source": [
    "SYNTAX :\n",
    "    \n",
    "def __init__(self):\n",
    "    #body of the constructor..."
   ]
  },
  {
   "cell_type": "raw",
   "id": "f80dcb3e",
   "metadata": {},
   "source": [
    "There are two types of constructors \n",
    "1.) default constructor \n",
    "2.) parameterized constructor"
   ]
  },
  {
   "cell_type": "code",
   "execution_count": 193,
   "id": "a3fd1cbe",
   "metadata": {},
   "outputs": [
    {
     "name": "stdout",
     "output_type": "stream",
     "text": [
      "SubhamGupta\n"
     ]
    }
   ],
   "source": [
    "##Default constructor\n",
    "class SGD:\n",
    "    def __init__(self):\n",
    "        self.geek = \"SubhamGupta\"\n",
    "        \n",
    "    # a method for printing members\n",
    "    def print_Geek(self):\n",
    "        print(self.geek)\n",
    "        \n",
    "#Creating an object of the class\n",
    "obj = SGD()\n",
    "\n",
    "#Calling the instance method using the obhect obj\n",
    "obj.print_Geek()\n",
    "        \n",
    "    \n"
   ]
  },
  {
   "cell_type": "code",
   "execution_count": 206,
   "id": "e5ac3aa3",
   "metadata": {},
   "outputs": [
    {
     "name": "stdout",
     "output_type": "stream",
     "text": [
      "First Number =1000\n",
      "Secoond Number =2000\n",
      "Addition of two numbers = 3000\n",
      "First Number =10\n",
      "Secoond Number =20\n",
      "Addition of two numbers = 30\n"
     ]
    }
   ],
   "source": [
    "##Parameteriszed Constructor\n",
    "class Addition:\n",
    "#     first = 0\n",
    "#     second = 0\n",
    "#     answer = 0\n",
    "    \n",
    "    #parameterized Constructor\n",
    "    def __init__(self,f,s):\n",
    "        self.first = f\n",
    "        self.second = s\n",
    "        \n",
    "    def calculate(self):\n",
    "        self.answer = self.first + self.second\n",
    "        \n",
    "        \n",
    "    def display(self):\n",
    "        print(\"First Number =\" + str(self.first))\n",
    "        print(\"Secoond Number =\" + str(self.second))\n",
    "        print(\"Addition of two numbers = \" + str(self.answer))\n",
    "    \n",
    "    \n",
    "#Creating object of the class\n",
    "#This will invoke Parameterized Constructor\n",
    "obj1 = Addition(1000, 2000)\n",
    "\n",
    "#Creating second object of the same classs\n",
    "obj2 = Addition(10,20)\n",
    "\n",
    "obj1.calculate()\n",
    "obj2.calculate()\n",
    "obj1.display()\n",
    "obj2.display()\n",
    "        \n",
    "        \n",
    "        "
   ]
  },
  {
   "cell_type": "code",
   "execution_count": 212,
   "id": "9fe5717d",
   "metadata": {},
   "outputs": [
    {
     "name": "stdout",
     "output_type": "stream",
     "text": [
      "Default constructor called\n",
      "Method called without a name\n",
      "Parameterized constructor called with name John\n",
      "Method called with name John\n",
      "Has a name\n",
      "No name\n"
     ]
    }
   ],
   "source": [
    "class MyClass:\n",
    "    def __init__(self, name=None):\n",
    "        if name is None:\n",
    "            print(\"Default constructor called\")\n",
    "        else:\n",
    "            self.name = name\n",
    "            print(\"Parameterized constructor called with name\", self.name)\n",
    "     \n",
    "    def method(self):\n",
    "        if hasattr(self, 'name'):\n",
    "            print(\"Method called with name\", self.name)\n",
    "        else:\n",
    "            print(\"Method called without a name\")\n",
    " \n",
    "# Create an object of the class using the default constructor\n",
    "obj1 = MyClass()\n",
    " \n",
    "# Call a method of the class\n",
    "obj1.method()\n",
    " \n",
    "# Create an object of the class using the parameterized constructor\n",
    "obj2 = MyClass(\"John\")\n",
    " \n",
    "# Call a method of the class\n",
    "obj2.method()\n",
    "\n",
    "\n",
    "# Using built-in function (hasattr)\n",
    "if hasattr(obj2,'name'):\n",
    "    print(\"Has a name\")\n",
    "else:\n",
    "    print(\"No name\")\n",
    "    \n",
    "    \n",
    "    #Using hasattr\n",
    "if hasattr(obj1,'name'):\n",
    "    print(\"Has a name\")\n",
    "else:\n",
    "    print(\"No name\")"
   ]
  },
  {
   "cell_type": "markdown",
   "id": "7e847719",
   "metadata": {},
   "source": [
    "Advantages of Constructors:\n",
    "1.)Helps to initialize variable swith a default value\n",
    "2.)Easy to implement()\n",
    "3.)ENCAPSULATION\n",
    "\n",
    "Disadvantages of Constructors:\n",
    "1.) does not support Overloading of functions.1.e., multiple constructors in a Single CLASS\n",
    "2.)lIMITED FUNCTIONALITY EG :-- Python does not have constructors with access modifiers like public, private or protected.\n",
    "3.)\n"
   ]
  },
  {
   "cell_type": "markdown",
   "id": "60f37ee3",
   "metadata": {},
   "source": [
    "# Destructors in python\n",
    "\n"
   ]
  },
  {
   "cell_type": "code",
   "execution_count": 213,
   "id": "27d12ce2",
   "metadata": {},
   "outputs": [
    {
     "name": "stdout",
     "output_type": "stream",
     "text": [
      "Object 1 is being destroyed\n",
      "Object 2 is being destroyed\n"
     ]
    }
   ],
   "source": [
    "class MyClass:\n",
    "    def __init__(self, name):\n",
    "        self.name = name\n",
    "\n",
    "    def __del__(self):\n",
    "        print(f\"{self.name} is being destroyed\")\n",
    "\n",
    "obj1 = MyClass(\"Object 1\")\n",
    "obj2 = MyClass(\"Object 2\")\n",
    "del obj1\n",
    "del obj2\n",
    "\n"
   ]
  },
  {
   "cell_type": "markdown",
   "id": "ac94464c",
   "metadata": {},
   "source": [
    "This is not generally used in python as objects are automatically GARBAAGE COLLECTED in Python when they are no longer used"
   ]
  },
  {
   "cell_type": "code",
   "execution_count": null,
   "id": "08d4e347",
   "metadata": {},
   "outputs": [],
   "source": []
  }
 ],
 "metadata": {
  "kernelspec": {
   "display_name": "Python 3 (ipykernel)",
   "language": "python",
   "name": "python3"
  },
  "language_info": {
   "codemirror_mode": {
    "name": "ipython",
    "version": 3
   },
   "file_extension": ".py",
   "mimetype": "text/x-python",
   "name": "python",
   "nbconvert_exporter": "python",
   "pygments_lexer": "ipython3",
   "version": "3.11.5"
  }
 },
 "nbformat": 4,
 "nbformat_minor": 5
}
